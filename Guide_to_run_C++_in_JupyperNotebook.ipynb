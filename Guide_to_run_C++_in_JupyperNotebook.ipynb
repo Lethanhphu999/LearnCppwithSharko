{
 "cells": [
  {
   "cell_type": "markdown",
   "id": "91b3e6c5-79a6-45e4-a358-82b0966c6c2b",
   "metadata": {},
   "source": [
    "# Hướng dẫn run code C++ trên môi trường jupyter notebook\n"
   ]
  },
  {
   "cell_type": "markdown",
   "id": "eae38c61-0ff9-42b3-a040-7d8e7e5ee33f",
   "metadata": {},
   "source": [
    "1. Điều kiện môi trường"
   ]
  },
  {
   "cell_type": "markdown",
   "id": "8ee5b604-9a64-4360-8d34-ba42775c5be6",
   "metadata": {},
   "source": [
    "Hiện nay 4/2025, có Linux/MacOs hỗ trợ C++ trên jupyter notebook. Nên là bạn nào muốn cài đặt môi trường, trước tiên máy bạn phải là hệ điều hành Linux/MacOS trước tiên nhé.\n"
   ]
  },
  {
   "cell_type": "markdown",
   "id": "93696b0d-8d2d-4300-b841-69befe43eb12",
   "metadata": {},
   "source": [
    "2. Các bước cài đặt môi trường"
   ]
  },
  {
   "cell_type": "markdown",
   "id": "4b4c4956-e55e-40fc-97f9-40fdbc47e7fb",
   "metadata": {},
   "source": [
    "    Mình hướng dẫn các bạn cài đặt trên môi trường hệ điều hành Ubuntu. Với các bạn có hệ điều khác có thể làm tương tự theo các bước.\n",
    "    Mình xin phép để link repo Xeus-CLing hướng dẫn:\n",
    "    https://github.com/jupyter-xeus/xeus-cling?tab=readme-ov-fileCLing"
   ]
  },
  {
   "cell_type": "markdown",
   "id": "0015a58b-3067-472a-9177-f0a1bc356716",
   "metadata": {},
   "source": [
    "B1: Cài đặt mini anaconda hoặc miniforge "
   ]
  },
  {
   "cell_type": "markdown",
   "id": "d7a7fb6a-b163-466d-baf9-452c6a3cb58c",
   "metadata": {},
   "source": [
    "- Đây mình cài mini conda, còn tại sao không cài anaconda full thì do tác giả Xeus-CLing có nói cài anaconda dẫn đến xung đột môi trường."
   ]
  },
  {
   "cell_type": "markdown",
   "id": "0e3f26b9-8aed-4d29-b582-ccafa9ac2ce2",
   "metadata": {},
   "source": [
    "```bash\n",
    "mkdir -p ~/miniconda3\n",
    "wget https://repo.anaconda.com/miniconda/Miniconda3-latest-Linux-x86_64.sh -O ~/miniconda3/miniconda.sh\n",
    "bash ~/miniconda3/miniconda.sh -b -u -p ~/miniconda3\n",
    "rm ~/miniconda3/miniconda.sh\n",
    "export PATH=\"$HOME/miniconda3/bin:$PATH\"\n",
    "source ~/.bashrc\n",
    "```\n"
   ]
  },
  {
   "cell_type": "markdown",
   "id": "f3582834-597e-406a-9069-86d8adcab09a",
   "metadata": {},
   "source": [
    "B2: Cài đặt Xeus-Cling"
   ]
  },
  {
   "cell_type": "markdown",
   "id": "83c0540e-1776-43f9-9922-f8fe62335c37",
   "metadata": {},
   "source": [
    "Bước này các bạn làm theo hướng dẫn link repo mình có để trên nha"
   ]
  },
  {
   "cell_type": "markdown",
   "id": "1ab8dd0f-0aff-4a9f-ab15-87652099c289",
   "metadata": {},
   "source": [
    "```bash\n",
    "mamba create -n cling\n",
    "conda activate cling\n",
    "mamba install xeus-cling -c conda-forge \n",
    "```"
   ]
  },
  {
   "cell_type": "markdown",
   "id": "af00345c-4dcf-4322-b3a2-a46dc724e551",
   "metadata": {},
   "source": [
    "B3: Cài đặt jupyter-notebook"
   ]
  },
  {
   "cell_type": "markdown",
   "id": "f2eef4f6-ac53-4849-8711-cc027af30121",
   "metadata": {},
   "source": [
    "Các bạn có thể dùng 1 trong 2 tập lệnh dưới. Muốn dùng command pip thì các bạn phải vào môi trường cling "
   ]
  },
  {
   "cell_type": "markdown",
   "id": "dd8eccef-837f-449c-9756-f25313540eb9",
   "metadata": {},
   "source": [
    "```bash\n",
    "pip install notebook\n",
    "pip install jupyterlab\n",
    "```"
   ]
  },
  {
   "cell_type": "markdown",
   "id": "d0fbd790-99c0-4e96-8cfb-258111598d86",
   "metadata": {},
   "source": [
    "```bash\n",
    "mamba install jupyterlab -c conda-forge\n",
    "mamba install jupyter-notebook -c conda-forge\n",
    "```"
   ]
  },
  {
   "cell_type": "markdown",
   "id": "addf5b40-020f-4b89-94c1-fbcab6e93aba",
   "metadata": {},
   "source": [
    "### Optional nếu bạn nào muốn build project c++ bằng xeus-cling"
   ]
  },
  {
   "cell_type": "markdown",
   "id": "235b5445-7a6d-43c5-911b-76c92ecc8337",
   "metadata": {},
   "source": [
    "```bash\n",
    "mamba create -n xeus-cling -c conda-forge cmake xeus-zmq cling nlohmann_json=3.11.2 cppzmq xtl pugixml doctest cpp-argparse\n",
    "source activate xeus-cling\n",
    "```"
   ]
  }
 ],
 "metadata": {
  "kernelspec": {
   "display_name": "C++17",
   "language": "C++17",
   "name": "xcpp17"
  },
  "language_info": {
   "codemirror_mode": "text/x-c++src",
   "file_extension": ".cpp",
   "mimetype": "text/x-c++src",
   "name": "c++",
   "version": "17"
  }
 },
 "nbformat": 4,
 "nbformat_minor": 5
}
