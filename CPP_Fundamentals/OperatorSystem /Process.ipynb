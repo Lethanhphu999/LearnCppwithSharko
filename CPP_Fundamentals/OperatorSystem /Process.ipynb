{
 "cells": [
  {
   "cell_type": "markdown",
   "id": "13aa01fe-20eb-4619-952f-b0f51d72cc94",
   "metadata": {},
   "source": [
    "# 1.Program, Process, Thread"
   ]
  },
  {
   "cell_type": "markdown",
   "id": "b550577d-7e5f-4e0a-a650-1f63104bc578",
   "metadata": {},
   "source": [
    "| Thuộc tính            | **Program** (Chương trình)                         | **Process** (Tiến trình)                                          | **Thread** (Luồng)                                              |\n",
    "|-----------------------|----------------------------------------------------|--------------------------------------------------------------------|-----------------------------------------------------------------|\n",
    "| **Khái niệm**         | Một tập hợp các câu lệnh (code) chưa chạy.        | Một chương trình đang được thực thi.                              | Đơn vị nhỏ nhất của tiến trình có thể thực thi.                 |\n",
    "| **Trạng thái**        | Tĩnh (chỉ tồn tại trong ổ đĩa).                    | Động (đang chạy trong bộ nhớ).                                    | Động (thực thi trong tiến trình).                               |\n",
    "| **Bộ nhớ**            | Không chiếm tài nguyên hệ thống khi chưa chạy.    | Có không gian bộ nhớ riêng (code, heap, stack, v.v.).             | Chia sẻ phần lớn bộ nhớ với các thread khác trong cùng tiến trình (trừ stack, register). |\n",
    "| **Tạo ra từ đâu?**    | Viết bởi lập trình viên, lưu thành file .exe, .py... | Được hệ điều hành tạo ra khi chương trình bắt đầu chạy.         | Được tạo trong một tiến trình. Một tiến trình có thể có nhiều thread. |\n",
    "| **Tài nguyên riêng?** | Không.                                             | Có (PID, memory, handle...).                                      | Không (chỉ có stack, register riêng).                           |\n",
    "| **Ví dụ**             | `notepad.exe`, `chrome.exe`                       | Một instance của `chrome.exe` đang chạy (có PID cụ thể).          | Một tab trong Chrome đang xử lý video là một thread.           |\n"
   ]
  },
  {
   "attachments": {},
   "cell_type": "markdown",
   "id": "5d4e707c-3fcf-4ab6-aa41-933aaa952467",
   "metadata": {},
   "source": [
    "![Program Diagram](https://gitlab.com/ltpho448/learnCPPwithSharko/-/raw/main/Assets/program.png)\n",
    "\n",
    "Minh họa cho 1 program [Nguồn Core Dumped](https://www.youtube.com/watch?v=7ge7u5VUSbE&ab_channel=CoreDumped)"
   ]
  },
  {
   "attachments": {},
   "cell_type": "markdown",
   "id": "50339e85-fb65-40f3-a1f5-2df0a930496d",
   "metadata": {},
   "source": [
    "![Program Memory Layout](https://kuleuven-diepenbeek.github.io/osc-course/img/Program_memory_layout.pdf.jpg)\n",
    "\n",
    "Phân vùng các vùng nhớ của một process"
   ]
  },
  {
   "cell_type": "markdown",
   "id": "32acd08c-c317-4188-bee3-e84b06a6b4be",
   "metadata": {},
   "source": [
    "Một process gồm 1 program được nạp vào ram để chạy. Cấu trúc vùng nhớ của một process gồm:\n",
    "- **Text/code** là mã máy dưới dạng assembly.\n",
    "- **Data** là vùng gồm các biến được khởi tạo ban đầu(**initialized variables**) khi chương trình bắt đầu chạy gồm biến global, static, external.\n",
    "- **bss**(Block Starting Symbol) vùng bao gồm các biến global, static nhưng chưa đợc khởi tạo. (Nghĩa là các biến này nằm ở những nơi chưa được gọi đến trong lúc khởi tạo process.\n",
    "- **Stack** là nơi lưu trữ  dạng biến có thời gian tồn tại ngắn(scope).\n",
    "- **Heap** là nơi lưu trữ dạng biến có thời gian tồn lại dài(tùy thuộc)."
   ]
  },
  {
   "cell_type": "code",
   "execution_count": null,
   "id": "47a48178-49d5-4d68-a23d-6f6ae4242a02",
   "metadata": {},
   "outputs": [],
   "source": []
  }
 ],
 "metadata": {
  "kernelspec": {
   "display_name": "C++11",
   "language": "C++11",
   "name": "xcpp11"
  },
  "language_info": {
   "codemirror_mode": "text/x-c++src",
   "file_extension": ".cpp",
   "mimetype": "text/x-c++src",
   "name": "c++",
   "version": "11"
  }
 },
 "nbformat": 4,
 "nbformat_minor": 5
}
