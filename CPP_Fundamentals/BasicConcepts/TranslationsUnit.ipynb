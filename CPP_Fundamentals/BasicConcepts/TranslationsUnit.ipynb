{
 "cells": [
  {
   "cell_type": "markdown",
   "id": "8d3da4fe-455c-4cda-a247-8c25654ad2ba",
   "metadata": {},
   "source": [
    "# 1.Terminology"
   ]
  },
  {
   "cell_type": "markdown",
   "id": "3bb924c2-2aa7-45ea-8084-97a7e993b006",
   "metadata": {},
   "source": [
    "A symbol là tên chỉ biến hàm, class, trong chương trình C++ \n",
    "\n",
    "Decleration là khai báo. Là thông báo với chương trình về 1 symbol và kết hợp thông tin đó với một definition.\n",
    "\n",
    "Definition là định nghĩa symbol cùng với tên và toàn bộ thông tin cần thiết để tạo nên nó."
   ]
  },
  {
   "cell_type": "markdown",
   "id": "c8cb6210-645c-47cf-bef4-30b64d0a6698",
   "metadata": {},
   "source": [
    "Nếu name đó là biến thì đinh nghĩa nó sẽ chỉ định việc lưu trữ và khởi tạo nó. Với định nghĩa function thì bào gồm tên hàm và thân hàm được triển khai. Với class thì là tên class follow theo là các member function được đinh nghĩa.\n",
    "\n",
    "Ví dụ về khai báo\n",
    "```cpp\n",
    "extern int i;\n",
    "int f(int x);\n",
    "class C;\n",
    "```"
   ]
  },
  {
   "cell_type": "markdown",
   "id": "2fb08a17-cb04-4b38-a753-f00692e666b5",
   "metadata": {},
   "source": [
    "Tiếp theo ta định nghĩa \n",
    "```cpp\n",
    "int i{42};\n",
    "int f(int x){ return x * i; }\n",
    "class C {\n",
    "public:\n",
    "   void DoSomething();\n",
    "};\n",
    "\n",
    "```"
   ]
  },
  {
   "cell_type": "markdown",
   "id": "0861e3e4-0739-4cf1-8542-9ae7a73cc99a",
   "metadata": {},
   "source": [
    "> Lưu ý: quy tắc định nghĩa tuân theo nguyên tắc \"One Definition Rule\" (ODR)."
   ]
  },
  {
   "cell_type": "markdown",
   "id": "51315dcc-7884-4f6c-a375-091256c2fce7",
   "metadata": {},
   "source": [
    "# 2.Translations unit"
   ]
  },
  {
   "cell_type": "markdown",
   "id": "3c3129e6-f604-4cfa-8bb7-2d37457696b4",
   "metadata": {},
   "source": [
    "Một chương trình gồm một hoặc nhiều translation unit. Một translation gồm một soure file triển khai  và các include trực tiếp hoặc gián tiếp của nó. Các translation unit này được compiler biên dịch một cách độc lập. Sau quá trình biên dich linkage sẽ linker các translation unit này lại với nhau."
   ]
  },
  {
   "cell_type": "markdown",
   "id": "4849c05e-b71c-4d38-b107-2ddb6a87739f",
   "metadata": {},
   "source": [
    "# 3. External linkage và internal linkage"
   ]
  },
  {
   "cell_type": "markdown",
   "id": "97a556e1-b6f6-4e20-954c-e70b1d7de2ca",
   "metadata": {},
   "source": [
    "Một hàm free function là hàm được định nghĩa tại global hoặc trong namespace. Một biến không phải const (non const) và free function mặc định sẽ là external linkage. External linkage nghĩa là nó có thể được nhìn thấy tại bất kỳ traslation unit nào của chương trình. Còn đóio với internal linkage thì có chỉ được nhìn thấy trong tralations unit của nó."
   ]
  },
  {
   "cell_type": "markdown",
   "id": "068df274-206c-4431-aaa0-a58bf007fde1",
   "metadata": {},
   "source": [
    "> Ví dụ từ khóa extern sẽ làm biến khai báo được tất cả các file nhìn thấy. Còn đối với từ biến static thì chỉ file sở hữu biến hoặc các file include lại biến đó mới có thể sử dụng biến đó."
   ]
  },
  {
   "cell_type": "markdown",
   "id": "e1e59752-9dff-4bde-a2c4-6c08c4fa0a01",
   "metadata": {},
   "source": [
    "Các từ khóa đi cùng các object mặc định sẽ là interal linkage:\n",
    "- const objects\n",
    "- constexpr objects\n",
    "- typedef objects\n",
    "- static objects in namespace scope"
   ]
  },
  {
   "cell_type": "markdown",
   "id": "e2c4fefc-fa22-48f7-959c-90068490cc4a",
   "metadata": {},
   "source": [
    "Tài liệu tham khảo\n",
    "\n",
    "[Translation unit - C++ docs Microsoft](https://learn.microsoft.com/en-us/cpp/cpp/program-and-linkage-cpp?view=msvc-170)"
   ]
  }
 ],
 "metadata": {
  "kernelspec": {
   "display_name": "C++11",
   "language": "C++11",
   "name": "xcpp11"
  },
  "language_info": {
   "codemirror_mode": "text/x-c++src",
   "file_extension": ".cpp",
   "mimetype": "text/x-c++src",
   "name": "c++",
   "version": "11"
  }
 },
 "nbformat": 4,
 "nbformat_minor": 5
}
