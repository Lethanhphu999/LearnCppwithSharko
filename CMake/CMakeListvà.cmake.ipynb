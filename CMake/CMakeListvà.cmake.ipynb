{
 "cells": [
  {
   "cell_type": "markdown",
   "id": "9c585707-2c26-4525-acb3-3177cdee4b37",
   "metadata": {},
   "source": [
    "# ✅ `CMakeLists.txt`\n",
    "\n",
    "### 📌 Là gì?\n",
    "- Là **file chính** được CMake xử lý để cấu hình quá trình build.  \n",
    "- Có thể có nhiều `CMakeLists.txt` trong project (mỗi thư mục con thường có một).\n",
    "\n",
    "### 📦 Vai trò:\n",
    "- Xác định **cấu trúc dự án**: executable, library, include path, compiler flags,...\n",
    "- Gọi các `add_subdirectory()`, `target_*()`...\n",
    "- Chứa logic build chính.\n",
    "\n",
    "### 📍 Khi nào dùng?\n",
    "- Dùng trong **mỗi thư mục chính của project** để mô tả cách build các phần cụ thể.\n",
    "- Tự động được CMake tìm và chạy.\n",
    "\n",
    "---\n",
    "\n",
    "# ✅ `.cmake` file\n",
    "\n",
    "### 📌 Là gì?\n",
    "- Là file **module** hoặc **script** hỗ trợ cho `CMakeLists.txt`.\n",
    "- Không được tự động chạy – bạn phải `include()` hoặc `find_package()` nó.\n",
    "\n",
    "### 📦 Vai trò:\n",
    "- Chứa **hàm dùng lại**, **logic phụ trợ**, **cấu hình riêng biệt**.\n",
    "- Có thể chia sẻ giữa nhiều project.\n",
    "\n",
    "### 📍 Khi nào dùng?\n",
    "- Khi bạn muốn:\n",
    "  - Viết **hàm tái sử dụng** (`function()`), tách logic ra ngoài.\n",
    "  - Cấu hình cho một module/phần cụ thể (ví dụ: `QtSetup.cmake`, `CompilerFlags.cmake`).\n",
    "  - Định nghĩa custom macro, helper cho build system.\n",
    "- Giữ cho `CMakeLists.txt` ngắn gọn, dễ đọc.\n",
    "\n",
    "---\n",
    "\n",
    "# 🆚 So sánh trực quan\n",
    "\n",
    "| Đặc điểm         | `CMakeLists.txt`                     | `.cmake` file                            |\n",
    "|------------------|--------------------------------------|------------------------------------------|\n",
    "| **Vai trò chính**| Điều khiển quá trình build chính     | Module phụ, hàm hỗ trợ, cấu hình thêm    |\n",
    "| **Cách gọi**     | Tự động khi CMake scan thư mục       | Gọi thủ công bằng `include()`            |\n",
    "| **Số lượng**     | Thường mỗi thư mục có 1              | Tùy ý, dùng để tái sử dụng                |\n",
    "| **Dùng cho**     | Project-specific build logic         | Reusable logic, config script            |\n"
   ]
  },
  {
   "cell_type": "code",
   "execution_count": null,
   "id": "8fe73c59-91a0-4db0-ba7b-5461fe34eb1e",
   "metadata": {},
   "outputs": [],
   "source": []
  }
 ],
 "metadata": {
  "kernelspec": {
   "display_name": "C++11",
   "language": "C++11",
   "name": "xcpp11"
  },
  "language_info": {
   "codemirror_mode": "text/x-c++src",
   "file_extension": ".cpp",
   "mimetype": "text/x-c++src",
   "name": "c++",
   "version": "11"
  }
 },
 "nbformat": 4,
 "nbformat_minor": 5
}
