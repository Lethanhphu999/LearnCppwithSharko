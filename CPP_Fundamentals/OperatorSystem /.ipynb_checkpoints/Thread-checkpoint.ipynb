{
 "cells": [
  {
   "cell_type": "markdown",
   "id": "aac7db42-3211-4196-bc49-956192afdd89",
   "metadata": {},
   "source": [
    "# 1. Thread là gì "
   ]
  },
  {
   "cell_type": "markdown",
   "id": "d86fa21c-a1f1-4d35-9b4b-e294013de7b6",
   "metadata": {},
   "source": [
    "# 1.1 Cấu trúc của một thread"
   ]
  },
  {
   "cell_type": "markdown",
   "id": "ff36d18e-4062-4cd1-bfe3-d4c49e2c5fa3",
   "metadata": {},
   "source": [
    "Thead là đơn vị nhỏ nhất của process có thế thực thi. Nếu như 1 process chỉ có 1 thread (**main thread**) thì nó được coi như là **single-threaded process**.\n",
    "\n",
    "![image.png](https://kuleuven-diepenbeek.github.io/osc-course/img/os/db_multithreaded_v2.png)"
   ]
  },
  {
   "cell_type": "markdown",
   "id": "7bc53f30-8658-48a4-9e31-bbe9541ad5fd",
   "metadata": {},
   "source": [
    "🟦 Vùng dùng chung của tiến trình (Process-wide, được chia sẻ bởi tất cả các thread):\n",
    "1. Code (mã lệnh)\n",
    "- Chứa mã lệnh của chương trình (chẳng hạn như các hàm, vòng lặp, biểu thức).\n",
    "- Đây là phần không thay đổi (read-only), để đảm bảo an toàn khi nhiều thread cùng chạy.\n",
    "2. Heap (bộ nhớ cấp phát động)\n",
    "- Dùng để cấp phát bộ nhớ động trong runtime (qua new, malloc, v.v.).\n",
    "- Tất cả các thread trong cùng một tiến trình đều có thể truy cập vùng heap.\n",
    "Ví dụ: bạn tạo một danh sách liên kết tại runtime thì danh sách này nằm ở heap.\n",
    "3. Files (tập tin)\n",
    "- Đại diện cho các tài nguyên hệ thống mà tiến trình đang mở, ví dụ như file, socket, thiết bị I/O.\n",
    "- Cũng được chia sẻ bởi các thread trong tiến trình.\n",
    "\n",
    "🟥 Vùng riêng của thread (Thread-specific):\n",
    "\n",
    "4. Registers (thanh ghi)\n",
    "- Là các thanh ghi CPU lưu trữ dữ liệu tạm thời cho thread, ví dụ: kết quả trung gian của phép tính.\n",
    "- Mỗi thread có tập thanh ghi riêng, không chia sẻ.\n",
    "\n",
    "5. Program Counter (bộ đếm chương trình)\n",
    "- Ghi lại địa chỉ lệnh tiếp theo mà thread sẽ thực hiện.\n",
    "- Mỗi thread có bộ đếm riêng, giúp thread biết mình đang thực thi đến đâu trong chương trình.\n",
    "6. Stack (ngăn xếp)\n",
    "- Dùng để lưu các lời gọi hàm (call stack), biến cục bộ, và thông tin trả về.\n",
    "- Mỗi thread có một stack riêng. Khi gọi hàm đệ quy, hay tạo biến nội bộ trong hàm, chúng sẽ nằm ở đây.\n",
    "7. Thread (luồng)\n",
    "- Đại diện cho một luồng điều khiển (execution flow) trong tiến trình,\n",
    "- Trong tiến trình đơn luồng, chỉ có một thread thực thi mọi thứ."
   ]
  },
  {
   "cell_type": "markdown",
   "id": "df0ba643-efdc-4077-b7ba-ba72c4fbd419",
   "metadata": {},
   "source": [
    "# 1.2 Tương tác giữa các thread"
   ]
  },
  {
   "cell_type": "markdown",
   "id": "5cff12dc-157d-4f3e-ad7f-90939c4efa1d",
   "metadata": {},
   "source": [
    "Khải niệm **Concurrency** (hay tiếng Việt là tính đồng thời) là một khái niệm trong khoa học máy tính chỉ việc nhiều tác vụ có thể tiến hành trong cùng một khoảng thời gian. Tuy nhiên, không nhất thiết tất cả các tác vụ đó phải thực sự chạy cùng lúc (**song song**), mà chỉ cần chúng có thể tiến hành **xen kẽ** nhau."
   ]
  },
  {
   "cell_type": "markdown",
   "id": "db0de7de-c808-4e55-90ea-95a9ff0244f8",
   "metadata": {},
   "source": [
    "![Program Diagram](https://gitlab.com/ltpho448/learnCPPwithSharko/-/raw/main/Assets/thread3.png)\n",
    "\n",
    "Điều kiện trên là máy tính chính ta chỉ có 1 core, core có 2 thread. Như hình minh họa thì **thread1** chạy những khoảng thời gian t1,t3 trong khi đó **thread2** sẽ chạy những khoảng thời gian t2,t4  .Vậy là 2 thread này sẽ chạy những khoảng xen kẽ nhau chứ bản chất chúng không thực sự song song. Thread chỉ song song thực sự khi 2 thread đó chạy trên 2 core."
   ]
  },
  {
   "cell_type": "markdown",
   "id": "9c385489-9ae7-4c71-9f22-6517e2439a35",
   "metadata": {},
   "source": [
    "![Program Diagram](https://gitlab.com/ltpho448/learnCPPwithSharko/-/raw/main/Assets/multithread1.png)\n",
    ">Các thread sẽ chia sẻ tất cả dữ liệu với nhau. Mỗi một thread đều có một stack riêng của chúng. Và chúng đề có stack counter lưu lại program register câu lệnh tiếp theo thread đó phải thực hiện."
   ]
  },
  {
   "cell_type": "markdown",
   "id": "582c4c4c-6572-463a-a033-51e699e82d0b",
   "metadata": {},
   "source": [
    "![Program Diagram](https://gitlab.com/ltpho448/learnCPPwithSharko/-/raw/main/Assets/multithread2.png)\n",
    "> Mỗi thread đều có trỏ đến vùng text code để thực thi chương trình"
   ]
  },
  {
   "cell_type": "markdown",
   "id": "ef758396-8a9f-47be-b3ea-ca0cad4962e2",
   "metadata": {},
   "source": [
    "# 2. Tại sao chúng ta lại cần multithread"
   ]
  },
  {
   "cell_type": "markdown",
   "id": "f1fdfff4-84be-4637-a72b-b15cea8f06fb",
   "metadata": {},
   "source": [
    "- Tính đáp ứng(**Responsiveness**): Khi một chương trình được chia thành nhiều luồng (threads), trải nghiệm người dùng sẽ cảm thấy mượt mà hơn. Các luồng chuyên biệt có thể được tạo để xử lý yêu cầu của người dùng và cung cấp phản hồi (hình ảnh), trong khi các luồng khác có thể, ví dụ, xử lý dữ liệu ở chế độ nền.\n",
    "\n",
    "- Chia sẻ tài nguyên(**Resource sharing**): Các chương trình có nhiều luồng thường cần một số hình thức giao tiếp giữa các luồng này. Việc này được thực hiện dễ dàng hơn giữa các luồng so với giữa các tiến trình (processes), vì các luồng mặc nhiên chia sẻ bộ nhớ qua heap của chúng. Điều này sẽ được thảo luận chi tiết trong phần tiếp theo.\n",
    "\n",
    "- Tính chi phí(**Economy**): Việc chuyển đổi ngữ cảnh (context switching) trở nên ít tốn kém hơn khi chuyển đổi giữa các luồng so với giữa các tiến trình. Điều này là do trạng thái của mỗi luồng cần theo thdõi ít hơn so với trạng thái của mỗi tiến trình.\n",
    "\n",
    "- Khả năng mở rộng(**Scalability**): Nhiều luồng có thể chạy song song trên các hệ thống đa lõi, trái ngược với một tiến trình đơn luồng."
   ]
  },
  {
   "cell_type": "markdown",
   "id": "24a6fa68-008e-48aa-b889-af727d84b402",
   "metadata": {},
   "source": [
    "# 2.1 Amdahl’s law"
   ]
  },
  {
   "cell_type": "markdown",
   "id": "191c62d3-1c69-4026-bff3-ca154c8d96bc",
   "metadata": {},
   "source": [
    "![image.png](https://kuleuven-diepenbeek.github.io/osc-course/img/os/serial_vs_parallel.png)\n",
    "\n",
    "Như vậy chúng ta thấy nếu ứng chương trình ta sử dụng càng nhiều multithread thì chương trình chúng ta càng nhanh. Hay chúng ta mong đợi rằng program chúng ta chạy trên N core sẽ nhanh hơn gấp N lần so với program của chúng ta khi chạy trên 1 core. Điều này thực sự không đúng. Program của chúng ta chỉ thực sự chạy nhanh hơn N lần so với 1 core những tác vụ có thể song song được. "
   ]
  },
  {
   "cell_type": "markdown",
   "id": "d91e1659-5e5c-4103-ad44-c7933d77ea2c",
   "metadata": {},
   "source": [
    "Công thức tính cho tỉ lệ tăng tốc được: Speedup < 1 / (S + (1-S)/N). Trong đó:\n",
    "- **S** là khoảng tỉ lệ thời gian program chạy tuần tự\n",
    "- **N** là khoảng tị lệ thời gian program chạy song song"
   ]
  },
  {
   "cell_type": "markdown",
   "id": "d1ffd64c-0d23-4a43-aee4-6eafa4487c0f",
   "metadata": {},
   "source": [
    "# 2.2 User threads vs System threads"
   ]
  },
  {
   "cell_type": "markdown",
   "id": "4888bde0-ee51-428c-b9fe-22a934b6977e",
   "metadata": {},
   "source": [
    "![image.png](https://kuleuven-diepenbeek.github.io/osc-course/img/os/db_threads.png)"
   ]
  },
  {
   "cell_type": "markdown",
   "id": "7afefa93-4353-4755-b2b5-7b38125d30ea",
   "metadata": {},
   "source": [
    "Hệ điều hành(**Operator system**) của chúng ta chạy rất nhiều chương trình(**program**). Mỗi chương trình có **ít nhất 1 process** hoặc nhiều hơn. Mỗi một process lại cũng có **ít nhất một Main Thread**. Trong một khoảng thời gian thì **OS** của chúng ta chạy khoảng 10-50 process, **10000** thread, trong đó thì máy tính chúng ta thường chỉ có khoảng 4, 6, 8 core(8, 12, 16 kernel thread). Có cách nào để máy  tính chúng ta ta có thể chạy được số lượng lớn process, thread đến vậy. Sử dụng cơ chế map giữa **user thread** và **kernel thread** nhiều cách (1 vs 1, 1 vs many, many vs many). Việc map này cũng có thể thay chuyển đổi giữa các CPU khác nhau việc này **OS** kiểm soát. Như vậy là 1 program của chúng ta gồm nhiều user thread tuy nhiên có thể chỉ được map với cùng 1 kernel thread thì program của chúng ta các thread chỉ coi như chạy tuần tự. "
   ]
  },
  {
   "cell_type": "markdown",
   "id": "21d58a6f-84e3-42db-b45c-38b353ca54a0",
   "metadata": {},
   "source": [
    "# 3. Thực hành tạo thread"
   ]
  },
  {
   "cell_type": "markdown",
   "id": "fb774d66-28a3-4425-a7bb-65cb62069d07",
   "metadata": {},
   "source": [
    "```c\n",
    "\n",
    "#include <stdio.h>\n",
    "#include <string.h>\n",
    "#include <pthread.h>\n",
    "#include <stdlib.h>\n",
    "#include <unistd.h>\n",
    "\n",
    "int counter;\n",
    "\n",
    "void* startThreadJob() {\n",
    "    unsigned long i = 0;\n",
    "    counter += 1;\n",
    "\n",
    "    printf(\"  Job %d started\\n\", counter);\n",
    "    for(i=0; i<(0xFFFFFFFF); i++) {\n",
    "        // do nothing\n",
    "        // this is just here to keep the thread running for a while!\n",
    "    }\n",
    "    printf(\"  Job %d finished\\n\", counter);\n",
    "\n",
    "    return NULL;\n",
    "};\n",
    "\n",
    "int main(void) {\n",
    "  int i = 0, err;\n",
    "  pthread_t tid[2];\n",
    "  counter = 0;\n",
    "\n",
    "  while(i < 2) {\n",
    "\n",
    "    // pthread_create has 4 parameters:\n",
    "    // 1. pointer to pthread_t, needed to keep thread state\n",
    "    // 2. configuration arguments for the thread (passing NULL means we use the defaults here)\n",
    "    // 3. pointer to the function that will run in a separate thread\n",
    "    // 4. parameters to pass to the thread (no arguments for startThreadJob, so we pass NULL)\n",
    "\n",
    "    err = pthread_create( &(tid[i]), NULL, &startThreadJob, NULL );\n",
    "\n",
    "    if (err != 0) {\n",
    "      printf(\"\\ncan't create thread :[%s]\", strerror(err));\n",
    "    }\n",
    "\n",
    "    i++;\n",
    "  }\n",
    "\n",
    "  // pthread_join pauses the current thread until the thread in the first argument is terminated\n",
    "  // Note that the \"main\" function automatically also executes in a thread, which we often call the \"main thread\".\n",
    "  // If the joined thread was already terminated, pthread_join returns immediately\n",
    "  // The second argument can be used to store the return value of the thread\n",
    "  // Our thread currently doesn't return anything, so we pass NULL\n",
    "\n",
    "  pthread_join(tid[0], NULL);\n",
    "  pthread_join(tid[1], NULL);\n",
    "\n",
    "  return 0;\n",
    "}\n",
    "```"
   ]
  },
  {
   "cell_type": "markdown",
   "id": "9a18d896-b710-4f3f-968f-004514357ae5",
   "metadata": {},
   "source": [
    "Kết quả chạy như sau \n",
    "```bash\n",
    "dawn@dawn-Precision:~/Documents/C++$ cd \"/home/dawn/Documents/C++/\" && gcc tes.c -o tes && \"/home/dawn/Documents/C++/\"tes\n",
    "  Job 1 started\n",
    "  Job 2 started\n",
    "  Job 2 finished\n",
    "  Job 2 finished\n",
    "\n",
    "```"
   ]
  },
  {
   "cell_type": "markdown",
   "id": "682f2fe2-4f0c-478d-bcc1-7876db0bcaca",
   "metadata": {},
   "source": [
    "# 4. Cách thread giao tiếp với nhau"
   ]
  },
  {
   "cell_type": "markdown",
   "id": "b613a58b-7215-4c37-b085-b8965c380dc9",
   "metadata": {},
   "source": [
    "## 4.1 Race condition"
   ]
  },
  {
   "cell_type": "markdown",
   "id": "57993f4a-3be5-4cea-9d7d-647f77f7c977",
   "metadata": {},
   "source": [
    "Như kết quả chúng ta thấy ở trên thì khi job 1 finish thì counter lại in ra thành 2. Việc này do hiện tượng **race conditon**."
   ]
  },
  {
   "cell_type": "markdown",
   "id": "780b6ebc-e278-475d-8e13-e1a179e5f6ce",
   "metadata": {},
   "source": [
    "```c\n",
    "// Code that both threads will execute:\n",
    "counter += 1;\n",
    "local_id = counter;\n",
    "// -----------------------------------\n",
    "\n",
    "// Thread 1\n",
    "counter += 1; // after this, counter == 1\n",
    "    // Before Thread 1 can execute local_id = counter, it is paused by the CPU\n",
    "    // Thread 2\n",
    "    counter += 1; // after this, counter == 2\n",
    "    local_id = counter; // thus, in Thread 2, local_id is correctly 2\n",
    "// Here, the CPU switches back to Thread 1\n",
    "// Thread 1\n",
    "local_id = counter; // now, local_id is still 2, instead of 1... mission failed\n",
    "\n",
    "```"
   ]
  },
  {
   "cell_type": "markdown",
   "id": "81b77d84-b967-4e88-80f0-790333eb0799",
   "metadata": {},
   "source": [
    "> Bên cạnh đó còn có khái niệm quan trọng là **critical section** đây là vùng dữ liệu quan trọng mà multithread truy cập vào "
   ]
  },
  {
   "cell_type": "markdown",
   "id": "31597c15-6c30-4b83-85d1-ccff50ba5a21",
   "metadata": {},
   "source": [
    "Trước khi đi vào các cách mà thread giao tiếp với nhau ta tìm hiểu nguyên nhân đăng sau hiện tượng **race condition**. Và để thực hiện một phép toán counter =  counter + 1; thì CPU phải thực hiện một chuỗi các instrions **non atocmic**:\n",
    "1. Fetch value of counter from RAM and store it in the CPU cache memory\n",
    "2. Fetch value from CPU cache memory and store it in a CPU register for the calculation\n",
    "3. Add 1 to the register value\n",
    "4. Write the register value back to the CPU cache\n",
    "5. Write the cached value back to the RAM"
   ]
  },
  {
   "cell_type": "markdown",
   "id": "03ea296f-d912-4039-93db-b6bace8aeba4",
   "metadata": {},
   "source": [
    "Hoăc viết đơn giản lại gộp các instruction của CPU lại được:\n",
    "\n",
    "```c\n",
    "// In simple pseudocode, counter += 1 might look like this:\n",
    "int temp = counter + 1; // temp is for example the CPU register here, and \"counter\" is the value in memory\n",
    "counter = temp; // the register value is written back out to the memory\n",
    "```"
   ]
  },
  {
   "cell_type": "markdown",
   "id": "072ece9d-438a-4ba4-8250-207a3e393d8d",
   "metadata": {},
   "source": [
    "Dưới đây là một minh họa cho nguyên nhân hiện tượng **race condition** xảy ra chuỗi sự kiện:\n",
    "\n",
    "```c\n",
    "// Code that both threads will execute:\n",
    "int temp = counter + 1;\n",
    "counter = temp;\n",
    "// -----------------------------------\n",
    "\n",
    "// Thread 1\n",
    "int temp = counter + 1; // after this, Thread 1's temp register contains the value 1. The \"counter\" value in RAM is still 0.\n",
    "    // Before Thread 1 can actually store this temporary register result in memory, the CPU gives control to Thread 2\n",
    "    // Thread 2\n",
    "    int temp = counter + 1; // \"counter\" was still 0 in RAM, so Thread 2's temp register now also contains the value 1\n",
    "    counter = temp; // The \"counter\" value in RAM is now 1\n",
    "// Here, the CPU switches back to Thread 1\n",
    "// Thread 1\n",
    "counter = temp; // The \"counter\" value in RAM is still 1\n",
    "\n",
    "```\n"
   ]
  },
  {
   "cell_type": "markdown",
   "id": "79e93174-0b2b-4627-9921-8be969468758",
   "metadata": {},
   "source": [
    "Để giải quyết vấn đề này **race condition** có các phương pháp sau: \n",
    "- **Atomic operator**\n",
    "- **Mutex/Lock**\n",
    "- **Semaphore/Signal**"
   ]
  },
  {
   "cell_type": "markdown",
   "id": "245c1cf6-5e02-4abd-be31-8cc9ba9374ae",
   "metadata": {},
   "source": [
    "## 4.2 Atomic operator"
   ]
  },
  {
   "cell_type": "markdown",
   "id": "1dbf6872-46ea-4f3f-b750-eeb567705e8f",
   "metadata": {},
   "source": [
    "Atomic operator được support bởi câu lệnh của CPU thay thì thực hiện một loạt chuỗi hành động như load data từ ram vào cache cpu, cpu- >register ... bla bla thì nó phép toán dùng **các instruction không thể bị cắt**. Khi một atomic operation được thực hiện, nó đảm bảo rằng:\n",
    "- Toàn bộ thao tác hoàn thành hoặc không thực hiện gì (không có trạng thái nửa vời).\n",
    "- Không có thread/process nào khác có thể can thiệp vào quá trình này (tránh race condition)."
   ]
  },
  {
   "cell_type": "markdown",
   "id": "ab1a4f22-b859-495e-a3e9-b04fd287c2d2",
   "metadata": {},
   "source": [
    "### 4.2.1 Atomic Operations được CPU hỗ trợ như thế nào?\n",
    "\n",
    "**a. Single Instruction Atomicity**\n",
    "\n",
    "Một số atomic operations được thực hiện bằng một lệnh CPU duy nhất, ví dụ:\n",
    "\n",
    "x86:\n",
    "\n",
    "LOCK XADD (atomic add và trả về giá trị cũ).\n",
    "\n",
    "LOCK CMPXCHG (atomic compare-and-swap).\n",
    "\n",
    "ARM:\n",
    "\n",
    "LDREX/STREX (load/store với cơ chế exclusive access).\n",
    "\n",
    "RISC-V:\n",
    "\n",
    "AMOADD (atomic memory add).\n",
    "\n",
    "Ví dụ:\n",
    "Khi bạn gọi std::atomic<int>::fetch_add(1) trong C++, trình biên dịch sẽ sinh mã assembly tương ứng với LOCK XADD (trên x86), thực hiện cộng nguyên tử giá trị vào bộ nhớ mà không cần qua các bước trung gian như load vào register.\n",
    "\n",
    "**b. Multi-Instruction Atomicity**\n",
    "\n",
    "Một số atomic operations phức tạp hơn (ví dụ: read-modify-write) có thể yêu cầu nhiều lệnh CPU, nhưng CPU vẫn đảm bảo tính atomic thông qua:\n",
    "\n",
    "Bus Locking: Khóa bus bộ nhớ để ngăn các core/thread khác truy cập.\n",
    "\n",
    "Cache Coherency Protocol: Đảm bảo các core chỉ thao tác trên bản sao độc quyền của dữ liệu trong cache (ví dụ: MESI protocol)."
   ]
  },
  {
   "cell_type": "markdown",
   "id": "eda084ae-d4e0-44f6-966e-baa0ba0ef1ac",
   "metadata": {},
   "source": [
    "# 4.2.2 Tại sao không cần load data từ RAM vào register?\n",
    "\n",
    "**Cache là trung gian**: Dữ liệu thường nằm trong cache (L1/L2/L3) của CPU, không phải RAM. Khi thực hiện atomic operation, CPU thao tác trực tiếp trên cache với cơ chế **exclusive access** (đảm bảo không có core nào khác cùng truy cập).\n",
    "\n",
    "**Hardware Guarantee**: CPU đảm bảo atomic operation được thực hiện trực tiếp trên địa chỉ bộ nhớ (không qua register) nếu dùng lệnh hỗ trợ sẵn.\n"
   ]
  },
  {
   "cell_type": "markdown",
   "id": "d46d889d-487d-4777-bb9e-a956428795df",
   "metadata": {},
   "source": [
    "# 4.2.3 Khi nào atomic operations KHÔNG dùng single instruction?\n",
    "**Kiến trúc CPU cũ**: Trên các CPU không hỗ trợ lệnh atomic cho thao tác phức tạp, trình biên dịch phải dùng software-level locking (mutex) để mô phỏng atomicity.\n",
    "\n",
    "**Custom Data Structures**: Khi thao tác trên struct phức tạp (không phải Trivially Copyable), bạn phải tự đồng bộ bằng mutex.\n",
    "\n"
   ]
  },
  {
   "cell_type": "markdown",
   "id": "d3b54b6d-2ccd-4999-9626-7cffcb9d5d6e",
   "metadata": {},
   "source": [
    "# 4.2.4 Ưu điểm và hạn chế của Atomic Operations\n",
    "\n",
    "Ưu điểm\n",
    "- Hiệu suất cao: Tránh được chi phí lock/unlock của mutex.\n",
    "- Lock-Free Programming: Cho phép xây dựng cấu trúc dữ liệu không cần khóa (ví dụ: lock-free queue).\n",
    "\n",
    "Hạn chế\n",
    "- Giới hạn kiểu dữ liệu: Chỉ áp dụng được cho các kiểu dữ liệu đơn giản (int, pointer, struct Trivially Copyable).\n",
    "- Platform Dependency: Các lệnh atomic phụ thuộc vào kiến trúc CPU.\n"
   ]
  },
  {
   "cell_type": "markdown",
   "id": "e903edac-e1e0-4cf2-bb4f-128251b30198",
   "metadata": {},
   "source": [
    "# 4.3 Mutex và Locking"
   ]
  },
  {
   "cell_type": "markdown",
   "id": "8c438efd-126e-4542-a011-668074c0d58f",
   "metadata": {},
   "source": [
    "Để giải quyết bài toán của **operator atomic** đối với **critical sections** chỉ áp dụng với các dữ liệu đơn giản thì người ta sử dụng 1 cách khác cũng vô cùng hiệu quả là mutex/locking.\n",
    "\n",
    "Ý tưởng thực hiện là với thread đang chuẩn bị truy cập vào vùng **critical section** thì ta sẽ thực hiện khóa dữ liệu đó và chỉ cho thread đó thao tác trên vùng **critical section**. Sau khi thực hiện xong thì nhả khóa cho phép các thread khác có thể truy cập vào vùng dữ liệu **critical section**. \n",
    "\n",
    "```c\n",
    "pthread_mutex_t lock; // Khai báo mutex lock\n",
    "\n",
    "void* thread_func(void* arg) {\n",
    "    pthread_mutex_lock(&lock);   // Khóa critical section\n",
    "    // ... Thao tác trên dữ liệu shared ...\n",
    "    pthread_mutex_unlock(&lock); // Nhả khóa\n",
    "    return NULL;\n",
    "}\n",
    "```"
   ]
  },
  {
   "cell_type": "markdown",
   "id": "e94906ea-4d10-4162-8ac9-4498faf768cb",
   "metadata": {},
   "source": [
    "Tuy nhiên mutex/locking gặp phải một vấn đề đó là **DeadLock**. Giả sử có 2 thread trong đó, thread1 thực hiện kế nối với mạng -> đọc dữ liệu vào ổ cứng, thread2 đọc dữ liệu từ ổ cứng để gửi vào mạng. Hai thread nàỷ lần lượt sử dụng những liệu đối ngược nhau và để tránh **Race condition**, 2 thread này đều lần lượt thực hiện khóa trên các tài nguyên mà chúng mong muốn.\n",
    "``` c\n",
    "// Thread 1 wants to first read from the network, then write result to the hard disk\n",
    "// Thread 2 wants to first read the contents of a file, then send it on the network\n",
    "\n",
    "// Thread 1:\n",
    "network.lock()\n",
    "    // CPU pauses Thread 1 and activates Thread 2\n",
    "    harddisk.lock()\n",
    "// CPU pauses Thread 2 and activates Thread 1 again\n",
    "harddisk.lock() // this will not complete, because Thread 2 is holding this lock already. Thread 1 has to wait\n",
    "    // CPU pauses Thread 1 because it has to wait and activates Thread 2 again\n",
    "    network.lock() // this will not complete, because Thread 1 is holding this lock already. Thread 2 has to wait\n",
    "\n",
    "// Both threads are waiting endlessly AND also locking the network and the harddisk for any other threads that might arrive\n",
    "```\n",
    "> Cả 2 thread này sẽ đợi lẫn nhau, thead1 đợi harddick, thread2 đợi network ---> **Dead Lock**\n",
    ">\n",
    "> Để giải quyết đương đầu với bài toán **Dead Lock** người ta sử dụng một techique khác đó là **semaphores\n"
   ]
  },
  {
   "cell_type": "markdown",
   "id": "660640ed-44ff-4005-8791-2e11c0af3d3e",
   "metadata": {},
   "source": [
    "# 4.4 Semaphores"
   ]
  },
  {
   "cell_type": "markdown",
   "id": "5dddb33e-09a0-4163-aa03-554ea153249a",
   "metadata": {},
   "source": [
    "# 4.4.1 Producer-Consumer Problems"
   ]
  },
  {
   "cell_type": "markdown",
   "id": "caa82eb4-5671-4948-b669-7ffae628d25d",
   "metadata": {},
   "source": [
    "Kỹ thuật **semaphores(signal)** này được áp dụng cho vấn đề **Producer-Consumer**. Trong đó một hoặc nhiều **thread producer** sẽ liên tục đưa dữ liệu vào trong **pipe(queue)**, trong khi tương tự có một hoặc nhiều **thread consumer** sẽ có nhiệm vụ nhận là xử lý dữ liệu. Đây là cũng một cách xử lý với trường hợp chúng ta phải cấp phát một vùng lớn bộ nhớ để các thread có thể *giao tiếp* được với nhau.\n",
    "\n",
    "![image.png](https://kuleuven-diepenbeek.github.io/osc-course/img/Multi-Producers-Multi-Consumers.jpg)"
   ]
  },
  {
   "cell_type": "markdown",
   "id": "1567b4df-93c8-4378-b0d8-8c2f39955c70",
   "metadata": {},
   "source": [
    "```c\n",
    "// PSEUDOCODE!\n",
    "mutex myLock;\n",
    "int items_in_array = 0; \n",
    "int* array = malloc(sizeof(int) * 10);\n",
    "\n",
    "void* producer() \n",
    "{\n",
    "    while (true) \n",
    "    {\n",
    "        bool itemStored = false;\n",
    "        Item item = produceItem();\n",
    "\n",
    "        while( !itemStored ) {\n",
    "\n",
    "            lock( myLock );\n",
    "            \n",
    "            if( items_in_array < 10 ) {\n",
    "                array[ items_in_array ] = item;\n",
    "                items_in_array += 1;\n",
    "\n",
    "                itemStored = true;\n",
    "            }\n",
    "\n",
    "            unlock( myLock );\n",
    "        }\n",
    "    }\n",
    "}\n",
    "```\n"
   ]
  },
  {
   "cell_type": "markdown",
   "id": "6963d175-fe72-4a84-b8d8-cc4ac432004a",
   "metadata": {},
   "source": [
    "```c\n",
    "// PSEUDOCODE!\n",
    "\n",
    "\n",
    "\n",
    "\n",
    "void* consumer() \n",
    "{\n",
    "    while (true) \n",
    "    {\n",
    "        Item item = NULL;\n",
    "\n",
    "        lock( myLock );\n",
    "        \n",
    "        if( items_in_array > 0 ) {\n",
    "            item = array[ items_in_array - 1 ];\n",
    "            items_in_array -= 1;\n",
    "        }\n",
    "\n",
    "        unlock( myLock );\n",
    "\n",
    "        if( item != NULL ) {\n",
    "            consumeItem(item);\n",
    "        }\n",
    "    }\n",
    "}\n",
    "\n",
    "\n",
    "```"
   ]
  },
  {
   "cell_type": "markdown",
   "id": "98a2279e-9a4f-4c05-810e-e5248fedd228",
   "metadata": {},
   "source": [
    "Trên là ví dụ minh họa cho thiết lập mô hình **producer-consumer**. Một bên liên tục tạo ra dữ liệu, một bên liên tục tiêu thụ dữ liệu. Với các triển khai này, các thread liên tục kiểm tra xem khóa có đang free không để có thể lock. Tuy nhiên nếu một trong hai giai đoạn này kéo lại lâu hơn dự kiến. Ví dụ **producer** để tạo ra 1 Item item = produceItem(); tốn mất 20s trong khi đó **consumer** consumeItem(item);chỉ tốn mất 0.1s, và nếu thread1 đã tạo ta 1 Item rồi lại tiếp tục thực hiện lock để tạo ra 1 item tiếp theo. Có nghĩa thread consumer phải đợi tiếp ~20s chờ đợi để có cơ hội tiêu thụ 1 Item. Lúc đó **thread consumer** sẽ ở trạng thái **busy waiting** hoặc **polling**.\n",
    "\n",
    ">Để giải quyết bài toán **thread** liên tục kiểm tra thì ta có kỹ thuật cho phép **thread** chờ sẽ theo dõi, nhận tín hiệụ từ các **thread** khác khi hoàn thành xong công việc"
   ]
  },
  {
   "cell_type": "markdown",
   "id": "c3e4f095-7792-4099-a17b-3d093ac5c4f5",
   "metadata": {},
   "source": [
    "# 4.4.2 Semaphore concepts"
   ]
  },
  {
   "cell_type": "markdown",
   "id": "dc44425d-62d7-42ab-9cbe-41c7e427316a",
   "metadata": {},
   "source": [
    "Semaphrore bản chất là hoạt động theo một số đếm **counter**, nhưng có thể **automatically pause/resume threads that use** nếu khi **counter** này = 0 hoặc > 0.\n",
    "This is typically done using three conceptual functions on the semaphore:\n",
    "- init( mySemaphore, count ) : Start the semaphore value at count (can be either 0 or a positive number).\n",
    "- wait( mySemaphore ) : Continues if mySemaphore is > 0 and decrements it by 1. If not, it pauses the current thread until mySemaphore becomes positive.\n",
    "- post( mySemaphore ) : Increments mySemaphore by 1. This then automatically causes 1 of the waiting threads (if any) to be unpaused."
   ]
  },
  {
   "cell_type": "markdown",
   "id": "b3090737-ee3a-448d-a5a2-fa72e8372570",
   "metadata": {},
   "source": [
    "``` c\n",
    "// PSEUDOCODE!\n",
    "mutex myLock;\n",
    "\n",
    "semaphore fill_count;  \n",
    "init(fill_count,  0);\n",
    "\n",
    "semaphore empty_count; \n",
    "init(empty_count, 10);\n",
    "\n",
    "int items_in_array = 0; \n",
    "int* array = malloc(sizeof(int) * 10);\n",
    "\n",
    "void* producer() \n",
    "{\n",
    "    while (true) \n",
    "    {\n",
    "        Item item = produceItem();\n",
    "\n",
    "        wait( empty_count ); // THIS IS NEW!\n",
    "\n",
    "        lock( myLock );\n",
    "        \n",
    "        array[ items_in_array ] = item;\n",
    "        items_in_array += 1;\n",
    "\n",
    "        unlock( myLock );\n",
    "        \n",
    "        post( fill_count ); // THIS IS NEW!\n",
    "    }\n",
    "}\n",
    "\n",
    "```"
   ]
  },
  {
   "cell_type": "markdown",
   "id": "2c0d04a9-bc72-47f4-bbdc-9aa967d2a5b8",
   "metadata": {},
   "source": [
    "```c\n",
    "void* consumer() \n",
    "{\n",
    "    while (true) \n",
    "    {\n",
    "        Item item = NULL;\n",
    "\n",
    "        wait( fill_count ); // THIS IS NEW! \n",
    "\n",
    "        lock( myLock );\n",
    "        \n",
    "        item = array[ items_in_array - 1 ];\n",
    "        items_in_array -= 1;\n",
    "\n",
    "        unlock( myLock );\n",
    "\n",
    "        post( empty_count ); // THIS IS NEW! \n",
    "\n",
    "        consumeItem(item);\n",
    "    }\n",
    "}\n",
    "```\n",
    "\n"
   ]
  },
  {
   "cell_type": "markdown",
   "id": "28710696-a9cc-463f-a404-f3c89b140824",
   "metadata": {},
   "source": [
    "Đọc xong đoạn mã sử dụng semaphores, câu hỏi đặt ra nếu đã dùng semaphores rồi thì tại sao vẫn cần sử dụng mutex bên trong ?\n",
    "\n",
    "Câu trả lời là việc sử dụng semaphore là vẫn để cho một số lương các thread có thể đồng thời truy cập vào vùng **critical section** và chúng thực hiện khóa là để tránh các thread này gây ra hiện tượng **race condition** như đã trình bày ở trên. Ý nghĩa của việc sinh ra **semaphore** không phải để bỏ việc sử dụng **mutex** mà thực ra là ta muốn bỏ đi tình trạng **busy wating, pooling** do lòng lặp **while()** gây ra."
   ]
  },
  {
   "cell_type": "markdown",
   "id": "f3a4fb6e-caa1-4376-b945-36ea4b190f15",
   "metadata": {},
   "source": [
    " Tóm tắt bản chất\n",
    "\n",
    "| **Cơ chế**       | **Mục đích**                                                                 | **Ưu điểm**                                  |\n",
    "|------------------|-----------------------------------------------------------------------------|---------------------------------------------|\n",
    "| **Semaphore**    | Kiểm soát số lượng thread truy cập tài nguyên, loại bỏ busy-waiting.         | Tiết kiệm CPU, hỗ trợ đa luồng đồng thời.   |\n",
    "| **Mutex**        | Đảm bảo exclusive access khi thao tác trên shared memory.                    | Ngăn race condition, đơn giản.              |\n",
    "| **Kết hợp**      | Semaphore quản lý số lượng thread + Mutex bảo vệ dữ liệu.                    | Tối ưu hiệu suất và an toàn dữ liệu.        |\n",
    "\n",
    "→ **Semaphore sinh ra để giải quyết busy-waiting, không phải để thay thế Mutex!**"
   ]
  },
  {
   "cell_type": "markdown",
   "id": "6c379335-3bf7-4e18-8429-803a09c3be58",
   "metadata": {},
   "source": []
  }
 ],
 "metadata": {
  "kernelspec": {
   "display_name": "C++11",
   "language": "C++11",
   "name": "xcpp11"
  },
  "language_info": {
   "codemirror_mode": "text/x-c++src",
   "file_extension": ".cpp",
   "mimetype": "text/x-c++src",
   "name": "c++",
   "version": "11"
  }
 },
 "nbformat": 4,
 "nbformat_minor": 5
}
