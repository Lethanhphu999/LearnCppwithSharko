{
 "cells": [
  {
   "cell_type": "markdown",
   "id": "3d92c28e-f968-4818-8b02-57fc52628c37",
   "metadata": {},
   "source": [
    "# 1. Đặt vấn đề\n"
   ]
  },
  {
   "cell_type": "markdown",
   "id": "660a8953-22f9-4b64-ada4-ff88a2bf9682",
   "metadata": {},
   "source": [
    "Trong lập trình C hay C++ chúng ta hay làm việc với con trỏ. Trong một chương trình lớn chúng ta phải quản lý một số \n",
    "lượng lớn con trỏ khác nhau, sau khi dùng xong chúng ta luôn phải giải phóng vùng nhớ con trỏ đó đang chỉ tới."
   ]
  },
  {
   "cell_type": "code",
   "execution_count": 1,
   "id": "c4daf46a-cb19-416a-b280-4cb162f885bd",
   "metadata": {},
   "outputs": [],
   "source": [
    "{\n",
    "int* p = new int [10];\n",
    "delete[] p; // giải phóng vùng nhớ  \n",
    "}\n"
   ]
  },
  {
   "cell_type": "markdown",
   "id": "aeeecf83-78f4-4601-8c06-5eb6ca7d7d37",
   "metadata": {},
   "source": [
    "Hoặc trong quá trình sử dụng ta có thể vô tình giải phóng con trỏ đó 2 lần. Hành động này dẫn đến lúc runtime bị **Undefined Behavior**."
   ]
  },
  {
   "cell_type": "code",
   "execution_count": 2,
   "id": "acfad9f5-886b-4f6f-8e65-5dbc2fdccbbc",
   "metadata": {},
   "outputs": [],
   "source": [
    "// Các bạn mà xóa dấu commnet ở dưới rồi chạy là jupyter notebook error -> reset đấy nha =)))\n",
    "{\n",
    "int* p = new int [10];\n",
    "    {\n",
    "        delete[] p;\n",
    "    }\n",
    "    \n",
    "//delete[] p;  // Undefined Behavior\n",
    "}"
   ]
  },
  {
   "cell_type": "markdown",
   "id": "b3ed225a-0e48-4cd0-83f6-1ee08d9a0fea",
   "metadata": {},
   "source": [
    ">Sau khi chúng ta cấp phát bộ nhớ cho dùng cho chương trình thì ta cần phải xóa con trỏ đó đi để không gây lãng phí memory, leak memory. Với chương trình nhỏ việc quản lý các con trỏ thủ công tương đối dễ dàng, Tuy nhiên với các chương trình có mã nguồn lớn việc quản lý con trỏ thô này khá là khó khăn. Các anh em developer C thầm nghĩ đó là chuyện cơm bữa rồi, tuy nhiên với ngôn ngữ C++, những feature mới người ta có sáng tạo ra con trỏ thông minh - **Smart Poiter**. Thứ giúp ta quản lý con trỏ một cách tự động, ta không cần phải lo nghĩ đến việc phải giải phóng bộ nhớ mỗi khi dùng xong con trỏ. Vậy ta hãy đi tìm hiểu xem nó thực sự có **Smart** không thật nha. "
   ]
  },
  {
   "cell_type": "markdown",
   "id": "494a106a-d867-4b17-98c6-26acaa83170b",
   "metadata": {},
   "source": [
    "# 2. Cơ chế liên quan giải phóng bộ nhớ"
   ]
  },
  {
   "cell_type": "markdown",
   "id": "34829872-df9e-4bdf-8fdf-b7a54a389330",
   "metadata": {},
   "source": [
    "Đây mình lấy ví dụ cho thấy nếu con trỏ không xóa thì việc gì sẽ xảy ra. "
   ]
  },
  {
   "cell_type": "code",
   "execution_count": 3,
   "id": "31748fbe-08e4-4f38-9555-77e0b076187b",
   "metadata": {},
   "outputs": [
    {
     "name": "stdout",
     "output_type": "stream",
     "text": [
      "Cấp phát vùng nhớ\n",
      "---------------------\n",
      "Cấp phát vùng nhớ\n",
      "Thu hồi vùng nhớ\n",
      "---------------------\n",
      "Cấp phát vùng nhớ\n",
      "Thu hồi vùng nhớ\n"
     ]
    }
   ],
   "source": [
    "#include <iostream>\n",
    "class Memory {\n",
    "public:\n",
    "Memory() {\n",
    "    std::cout << \"Cấp phát vùng nhớ\\n\";\n",
    "}\n",
    "\n",
    "~Memory() {\n",
    "    std::cout << \"Thu hồi vùng nhớ\\n\";\n",
    "    \n",
    "}\n",
    "};\n",
    "\n",
    "\n",
    "{\n",
    "    Memory* pM = new Memory();\n",
    "}\n",
    "\n",
    "std::cout << \"---------------------\\n\";\n",
    "{\n",
    "   Memory m;\n",
    "}\n",
    "\n",
    "\n",
    "std::cout << \"---------------------\\n\";\n",
    "{\n",
    "   Memory* pM = new Memory();\n",
    "    delete pM;\n",
    "    //pM->~Memory();\n",
    "}\n"
   ]
  },
  {
   "cell_type": "markdown",
   "id": "6c5695ba-a5c6-4d0a-b1f9-7d2a2745e3f5",
   "metadata": {},
   "source": [
    "Kết quả run xong các bạn sẽ thấy thắc mắc tại sao thằng *pM không gọi được tới hàm hủy. Vì **Memory m** được khởi tạo tại stack nên khi out scope tự động gọi hàm Destructor. Còn **Memory \\*pM** giá trị của con trỏ *pM được khởi tạo tại **Stack**, còn dữ liệu được trỏ tới đối tượng **Memory** được khởi tạo tại **Heap**. Với dự liệu được khởi tạo trong **Heap** khác với dữ liệu khởi tạo tại **Stack** là chúng ta phải quản lý chúng một cách thủ công. Nên là khi con trỏ **\\*pM** out scope thì tuy giá trị con trỏ được phóng nhưng dữ liệu con trỏ tới tại **Heap** chưa được giải phóng --> leak memory.\n",
    "\n",
    "\n",
    "[Tham khảo thêm.](https://stackoverflow.com/questions/56588367/why-is-the-destructor-not-called-when-im-declaring-a-pointer-to-an-object)\n"
   ]
  },
  {
   "cell_type": "markdown",
   "id": "e81ac370-b120-42d0-8969-d0f5d4db7c9c",
   "metadata": {},
   "source": [
    "# 3. Bí mật đằng sau Smart Poiter"
   ]
  },
  {
   "cell_type": "markdown",
   "id": "4f852caf-55fb-4351-af88-76a407209e16",
   "metadata": {},
   "source": [
    "Ta xem qua ví dụ code về **Smart pointer** nhé:"
   ]
  },
  {
   "cell_type": "markdown",
   "id": "2f9d0e0e-3300-4966-8faa-5d84504ed0d8",
   "metadata": {},
   "source": [
    "\n",
    "``` cpp\n",
    "//Các bạn code trình biên dịch nào đó họăc c++ compiler online run cũng được. Vì code dưới không thể chạy được trên xeus-cling. :((((\n",
    "#include <iostream>\n",
    "\n",
    "class Memory {\n",
    "public:\n",
    "    Memory() {\n",
    "        std::cout << \"Memory Constructor\\n\";\n",
    "    }\n",
    "\n",
    "    ~Memory() {\n",
    "        std::cout << \"Memory Destructor\\n\";\n",
    "    }\n",
    "};\n",
    "\n",
    "template <typename T>\n",
    "class SmartPointer {\n",
    "public:\n",
    "    SmartPointer() {\n",
    "        std::cout << \"SmartPointer Constructor\\n\";\n",
    "        t = new T();\n",
    "    }\n",
    "\n",
    "    ~SmartPointer() {\n",
    "        std::cout << \"SmartPointer Destructor\\n\";\n",
    "        delete t;\n",
    "    }\n",
    "\n",
    "    SmartPointer(const SmartPointer& other) {\n",
    "        std::cout << \"SmartPointer Copy Constructor\\n\";\n",
    "        t = new T(*other.t); // Sao chép đối tượng từ pointer\n",
    "    }\n",
    "\n",
    "    // Toán tử gán - ngăn gán sai cách\n",
    "    SmartPointer& operator=(const SmartPointer& other) {\n",
    "        if (this == &other) return *this; // Tránh tự gán\n",
    "\n",
    "        delete t; // Giải phóng bộ nhớ hiện tại\n",
    "        t = new T(*other.t); // Sao chép đối tượng\n",
    "        return *this;\n",
    "    }\n",
    "\n",
    "\n",
    "    \n",
    "private:\n",
    "    T* t;\n",
    "};\n",
    "int main() {\n",
    " {\n",
    "    SmartPoiter<Memory> pSmart; \n",
    "}\n",
    "    return 0;\n",
    "}\n",
    "```"
   ]
  },
  {
   "cell_type": "markdown",
   "id": "dcba423f-068c-4df0-b730-2bd2fdb2d4cc",
   "metadata": {},
   "source": [
    "Các bạn đọc xong code ngẫm nghĩ chút rồi đoán xem ý tưởng của **Smart Poiter** là gì. Ý tưởng của nó thực ra là dựa trên ý tưởng là 1 class sẽ wrap(SmartPointer) là lại dữ liệu được cấp phát tại heap mà ta muốn quản lý. KỸ hơn là giá trị khởi tạo pSmart được khởi tạo trong **Stack** nên khi out scpoe thì pSmart này sẽ tự động gọi đến hàm Destructor của nó, rồi nó sẽ gọi tới hàm hàm delete. Từ đó giải phóng giữ liệu trên heap của dữ liệu **T** mà class SmartPointer quản lý.\n"
   ]
  },
  {
   "cell_type": "markdown",
   "id": "cfc93a9a-9ae2-44e6-a5d7-d2216c862dd6",
   "metadata": {},
   "source": [
    "> Riêng có 2 hàm Copy Constructor và Move Constructor là để cho mục đích tạo ra các loại **Smart Poiter** mà mình sẽ đề cập bên dưới."
   ]
  },
  {
   "cell_type": "code",
   "execution_count": null,
   "id": "77d3647d-9340-4777-9a1c-e5f9b35b0f1a",
   "metadata": {},
   "outputs": [],
   "source": []
  }
 ],
 "metadata": {
  "kernelspec": {
   "display_name": "C++11",
   "language": "C++11",
   "name": "xcpp11"
  },
  "language_info": {
   "codemirror_mode": "text/x-c++src",
   "file_extension": ".cpp",
   "mimetype": "text/x-c++src",
   "name": "c++",
   "version": "11"
  }
 },
 "nbformat": 4,
 "nbformat_minor": 5
}
