{
 "cells": [
  {
   "cell_type": "markdown",
   "id": "13aa01fe-20eb-4619-952f-b0f51d72cc94",
   "metadata": {},
   "source": [
    "# 1.Program, Process, Thread\n"
   ]
  },
  {
   "cell_type": "markdown",
   "id": "b550577d-7e5f-4e0a-a650-1f63104bc578",
   "metadata": {},
   "source": [
    "Thế là là một process ?\n",
    "Process là một chương trình đang được thực thi trên hệ điều hành."
   ]
  },
  {
   "cell_type": "code",
   "execution_count": null,
   "id": "96f82ef2-badb-48c3-a181-698822c2f46d",
   "metadata": {},
   "outputs": [],
   "source": []
  }
 ],
 "metadata": {
  "kernelspec": {
   "display_name": "C++11",
   "language": "C++11",
   "name": "xcpp11"
  },
  "language_info": {
   "codemirror_mode": "text/x-c++src",
   "file_extension": ".cpp",
   "mimetype": "text/x-c++src",
   "name": "c++",
   "version": "11"
  }
 },
 "nbformat": 4,
 "nbformat_minor": 5
}
