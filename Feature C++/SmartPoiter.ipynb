{
 "cells": [
  {
   "cell_type": "markdown",
   "id": "3d92c28e-f968-4818-8b02-57fc52628c37",
   "metadata": {},
   "source": [
    "# 1. Đặt vấn đề\n"
   ]
  },
  {
   "cell_type": "markdown",
   "id": "660a8953-22f9-4b64-ada4-ff88a2bf9682",
   "metadata": {},
   "source": [
    "Trong lập trình C hay C++ chúng ta hay làm việc với con trỏ. Trong một chương trình lớn chúng ta phải quản lý một số \n",
    "lượng lớn con trỏ khác nhau, sau khi dùng xong chúng ta luôn phải giải phóng vùng nhớ con trỏ đó đang chỉ tới."
   ]
  },
  {
   "cell_type": "code",
   "execution_count": 19,
   "id": "c4daf46a-cb19-416a-b280-4cb162f885bd",
   "metadata": {},
   "outputs": [],
   "source": [
    "{\n",
    "int* p = new int [10];\n",
    "delete[] p; // giải phóng vùng nhớ  \n",
    "}\n"
   ]
  },
  {
   "cell_type": "markdown",
   "id": "aeeecf83-78f4-4601-8c06-5eb6ca7d7d37",
   "metadata": {},
   "source": [
    "Hoặc trong quá trình sử dụng ta có thể vô tình giải phóng con trỏ đó 2 lần. Hành động này dẫn đến lúc runtime bị **Undefined Behavior**."
   ]
  },
  {
   "cell_type": "code",
   "execution_count": 20,
   "id": "acfad9f5-886b-4f6f-8e65-5dbc2fdccbbc",
   "metadata": {},
   "outputs": [],
   "source": [
    "// Các bạn mà xóa dấu commnet ở dưới rồi chạy là jupyter notebook error -> reset đấy nha =)))\n",
    "{\n",
    "int* p = new int [10];\n",
    "    {\n",
    "        delete[] p;\n",
    "    }\n",
    "    \n",
    "//delete[] p;  // Undefined Behavior\n",
    "}"
   ]
  },
  {
   "cell_type": "markdown",
   "id": "b3ed225a-0e48-4cd0-83f6-1ee08d9a0fea",
   "metadata": {},
   "source": [
    ">Sau khi chúng ta cấp phát bộ nhớ cho dùng cho chương trình thì ta cần phải xóa con trỏ đó đi để không gây lãng phí memory, leak memory. Với chương trình nhỏ việc quản lý các con trỏ thủ công tương đối dễ dàng, Tuy nhiên với các chương trình có mã nguồn lớn việc quản lý con trỏ thô này khá là khó khăn. Các anh em developer C thầm nghĩ đó là chuyện cơm bữa rồi, tuy nhiên với ngôn ngữ C++, những feature mới người ta có sáng tạo ra con trỏ thông minh - **Smart Poiter**. Thứ giúp ta quản lý con trỏ một cách tự động, ta không cần phải lo nghĩ đến việc phải giải phóng bộ nhớ mỗi khi dùng xong con trỏ. Vậy ta hãy đi tìm hiểu xem nó thực sự có **Smart** không thật nha. "
   ]
  },
  {
   "cell_type": "markdown",
   "id": "494a106a-d867-4b17-98c6-26acaa83170b",
   "metadata": {},
   "source": [
    "# 2. Cơ chế liên quan giải phóng bộ nhớ"
   ]
  },
  {
   "cell_type": "markdown",
   "id": "34829872-df9e-4bdf-8fdf-b7a54a389330",
   "metadata": {},
   "source": [
    "Đây mình lấy ví dụ cho thấy nếu con trỏ không xóa thì việc gì sẽ xảy ra. "
   ]
  },
  {
   "cell_type": "code",
   "execution_count": 21,
   "id": "31748fbe-08e4-4f38-9555-77e0b076187b",
   "metadata": {},
   "outputs": [
    {
     "name": "stdout",
     "output_type": "stream",
     "text": [
      "Cấp phát vùng nhớ\n",
      "---------------------\n",
      "Cấp phát vùng nhớ\n",
      "Thu hồi vùng nhớ\n",
      "---------------------\n",
      "Cấp phát vùng nhớ\n",
      "Thu hồi vùng nhớ\n"
     ]
    }
   ],
   "source": [
    "#include <iostream>\n",
    "class Memory {\n",
    "public:\n",
    "Memory() {\n",
    "    std::cout << \"Cấp phát vùng nhớ\\n\";\n",
    "}\n",
    "\n",
    "~Memory() {\n",
    "    std::cout << \"Thu hồi vùng nhớ\\n\";\n",
    "    \n",
    "}\n",
    "};\n",
    "\n",
    "\n",
    "{\n",
    "    Memory* pM = new Memory();\n",
    "}\n",
    "\n",
    "std::cout << \"---------------------\\n\";\n",
    "{\n",
    "   Memory m;\n",
    "}\n",
    "\n",
    "\n",
    "std::cout << \"---------------------\\n\";\n",
    "{\n",
    "   Memory* pM = new Memory();\n",
    "    delete pM;\n",
    "    //pM->~Memory();\n",
    "}\n"
   ]
  },
  {
   "cell_type": "markdown",
   "id": "6c5695ba-a5c6-4d0a-b1f9-7d2a2745e3f5",
   "metadata": {},
   "source": [
    "Kết quả run xong các bạn sẽ thấy thắc mắc tại sao thằng *pM không gọi được tới hàm hủy. Vì **Memory m** được khởi tạo tại stack nên khi out scope tự động gọi hàm Destructor. Còn **Memory \\*pM** giá trị của con trỏ *pM được khởi tạo tại **Stack**, còn dữ liệu được trỏ tới đối tượng **Memory** được khởi tạo tại **Heap**. Với dự liệu được khởi tạo trong **Heap** khác với dữ liệu khởi tạo tại **Stack** là chúng ta phải quản lý chúng một cách thủ công. Nên là khi con trỏ **\\*pM** out scope thì tuy giá trị con trỏ được phóng nhưng dữ liệu con trỏ tới tại **Heap** chưa được giải phóng --> leak memory.\n",
    "\n",
    "\n",
    "[Tham khảo thêm.](https://stackoverflow.com/questions/56588367/why-is-the-destructor-not-called-when-im-declaring-a-pointer-to-an-object)\n"
   ]
  },
  {
   "cell_type": "markdown",
   "id": "e81ac370-b120-42d0-8969-d0f5d4db7c9c",
   "metadata": {},
   "source": [
    "# 3. Bí mật đằng sau Smart Poiter"
   ]
  },
  {
   "cell_type": "markdown",
   "id": "4f852caf-55fb-4351-af88-76a407209e16",
   "metadata": {},
   "source": [
    "Ta xem qua ví dụ code về **Smart pointer** nhé:"
   ]
  },
  {
   "cell_type": "markdown",
   "id": "2f9d0e0e-3300-4966-8faa-5d84504ed0d8",
   "metadata": {},
   "source": [
    "\n",
    "``` cpp\n",
    "//Các bạn code trình biên dịch nào đó họăc c++ compiler online run cũng được. Vì code dưới không thể chạy được trên xeus-cling. :((((\n",
    "#include <iostream>\n",
    "\n",
    "class Memory {\n",
    "public:\n",
    "    Memory() {\n",
    "        std::cout << \"Memory Constructor\\n\";\n",
    "    }\n",
    "\n",
    "    ~Memory() {\n",
    "        std::cout << \"Memory Destructor\\n\";\n",
    "    }\n",
    "};\n",
    "\n",
    "template <typename T>\n",
    "class SmartPointer {\n",
    "public:\n",
    "    SmartPointer() {\n",
    "        std::cout << \"SmartPointer Constructor\\n\";\n",
    "        t = new T();\n",
    "    }\n",
    "\n",
    "    ~SmartPointer() {\n",
    "        std::cout << \"SmartPointer Destructor\\n\";\n",
    "        delete t;\n",
    "    }\n",
    "\n",
    "    SmartPointer(const SmartPointer& other) {\n",
    "        std::cout << \"SmartPointer Copy Constructor\\n\";\n",
    "        t = new T(*other.t); // Sao chép đối tượng từ pointer\n",
    "    }\n",
    "\n",
    "    // Toán tử gán - ngăn gán sai cách\n",
    "    SmartPointer& operator=(const SmartPointer& other) {\n",
    "        if (this == &other) return *this; // Tránh tự gán\n",
    "\n",
    "        delete t; // Giải phóng bộ nhớ hiện tại\n",
    "        t = new T(*other.t); // Sao chép đối tượng\n",
    "        return *this;\n",
    "    }\n",
    "\n",
    "\n",
    "    \n",
    "private:\n",
    "    T* t;\n",
    "};\n",
    "int main() {\n",
    " {\n",
    "    SmartPoiter<Memory> pSmart; \n",
    "}\n",
    "    return 0;\n",
    "}\n",
    "```"
   ]
  },
  {
   "cell_type": "markdown",
   "id": "dcba423f-068c-4df0-b730-2bd2fdb2d4cc",
   "metadata": {},
   "source": [
    "Các bạn đọc xong code ngẫm nghĩ chút rồi đoán xem ý tưởng của **Smart Poiter** là gì. Ý tưởng của nó thực ra là dựa trên ý tưởng là 1 class sẽ wrap(SmartPointer) là lại dữ liệu được cấp phát tại heap mà ta muốn quản lý. KỸ hơn là giá trị khởi tạo pSmart được khởi tạo trong **Stack** nên khi out scpoe thì pSmart này sẽ tự động gọi đến hàm Destructor của nó, rồi nó sẽ gọi tới hàm hàm delete. Từ đó giải phóng giữ liệu trên heap của dữ liệu **T** mà class SmartPointer quản lý.\n"
   ]
  },
  {
   "cell_type": "markdown",
   "id": "cfc93a9a-9ae2-44e6-a5d7-d2216c862dd6",
   "metadata": {},
   "source": [
    "> Riêng có 2 hàm Copy Constructor và Move Constructor là để cho mục đích tạo ra các loại **Smart Poiter** mà mình sẽ đề cập bên dưới."
   ]
  },
  {
   "cell_type": "markdown",
   "id": "6ee32826-567f-4494-bf58-3a8b91995201",
   "metadata": {},
   "source": [
    "# 3. Phân loại các loại **Smart Pointer**"
   ]
  },
  {
   "cell_type": "markdown",
   "id": "bf0d86f1-f66c-4f99-8118-d9c31a6d54b6",
   "metadata": {},
   "source": [
    "Có các loại smart poiter chính:\n",
    "- unique_ptr\n",
    "- shared_ptr\n",
    "- weak_ptr\n",
    "- auto_ptr"
   ]
  },
  {
   "cell_type": "markdown",
   "id": "83fd9060-95e2-4b54-8252-1dac3e681d5d",
   "metadata": {},
   "source": [
    "> Trong nội dung bài này mình sẽ không nói đến auto_ptr vì người ta thường chỉ sử dụng unique_ptr, shared_ptr, weak_ptr."
   ]
  },
  {
   "cell_type": "markdown",
   "id": "29a4896d-df58-4af3-b513-2d7d3f9ba5b4",
   "metadata": {},
   "source": [
    "## 3.1 Unique_ptr"
   ]
  },
  {
   "cell_type": "markdown",
   "id": "530bd4ca-5528-412d-bdcb-6912ab90b87a",
   "metadata": {},
   "source": [
    "Con trỏ **unique_ptr** là con trỏ smart sở hữu, quản lý đối tượng khác thông qua con trỏ và xử lý giải phóng bộ nhớ nếu unique_ptr out scope hoặc chuyển dữ liệu sang con trỏ khác quản lý."
   ]
  },
  {
   "cell_type": "markdown",
   "id": "dc8a14f8-f80e-4e54-9b69-1feab6db4685",
   "metadata": {},
   "source": [
    "Đối tượng được con trỏ unique_ptr quản lý giải phóng dựa trên hàm deleter:\n",
    "- Khi con trỏ uinque_ptr thoát khỏi vùng tồn tại(out scope)\n",
    "- Khi con trỏ uinque_ptr chuyển quyền sở hữu cho con trỏ unique_ptr khác, gọi hàm **reset()**."
   ]
  },
  {
   "cell_type": "markdown",
   "id": "909ef93a-473a-4fae-8f44-ff4350726758",
   "metadata": {},
   "source": [
    "> Cơ chế hoạt hoạt động đằng sau unique_ptr là: **Unique_ptr** = **Smart Pointer** + **Move assginment, contructor** - **Copy assginment, contructor**"
   ]
  },
  {
   "cell_type": "markdown",
   "id": "8d8c6924-0c50-463b-8291-6bdd50fbc568",
   "metadata": {},
   "source": [
    "```cpp\n",
    "template <typename T>\n",
    "class UniquePointer {\n",
    "public:\n",
    "    UniquePointer() {\n",
    "        std::cout << \"UniquePointer Constructor\\n\";\n",
    "        t = new T();\n",
    "    }\n",
    "\n",
    "    ~UniquePointer() {\n",
    "        std::cout << \"UniquePointer Destructor\\n\";\n",
    "        delete t;\n",
    "    }\n",
    "\n",
    "    UniquePointer(UniquePointer&& ohter) {\n",
    "        t = other.t;\n",
    "        other.t = nullptr;\n",
    "    }\n",
    "\n",
    "    UniquePointer& opterator=(UniquePointer&& ohter) {\n",
    "        if (*this != other) {\n",
    "            delete t;\n",
    "\n",
    "            t = other.t;\n",
    "            other.t = nullptr;\n",
    "        }\n",
    "        return *this;\n",
    "\n",
    "    }\n",
    "\n",
    "    UniquePointer(const UniquePointer& other) = delete;   //copy contructor\n",
    "    UniquePointer& operator=(const UniquePointer& other) = delete; // copy assignment\n",
    "\n",
    "\n",
    "private:\n",
    "    T* t;\n",
    "};\n",
    "\n",
    "\n",
    "```"
   ]
  },
  {
   "cell_type": "markdown",
   "id": "80860620-bcef-4493-8ead-93590dfcc8ad",
   "metadata": {},
   "source": [
    "## 3.2 Shared_ptr"
   ]
  },
  {
   "cell_type": "markdown",
   "id": "c72ddfd3-e001-462d-b8f6-2ee853b5f13c",
   "metadata": {},
   "source": [
    "Con trỏ **shared_ptr** là con trỏ giữ quyền sở hữu chung đến đối tượng thông qua con trỏ. Nhiều con trỏ **share_ptr** cùng trỏ đến một đối tượng duy nhất. Đối tượng con trỏ shard_ptr bị hủy(destroyed) và vùng nhớ của nó bị giải phóng(deallocated) khi:\n",
    "- Con trỏ shared_ptr cuối cùng trỏ đến đối tượng bị hủy(out scope).\n",
    "- Con trỏ shared_ptr cuối cùng trỏ đến đối tương chuuyển quyền quản lý cho loại con trỏ khác(**unique_ptr**)."
   ]
  },
  {
   "cell_type": "markdown",
   "id": "4cd2f697-cec0-487b-8e29-cb1d0bbfd7ad",
   "metadata": {},
   "source": [
    "> Với con trỏ **Shared_ptr** = **Smart Pointer** + **Move assginment, contructor** + **Copy assginment, contructor**. Shared_ptr còn hoạt động dựa trên biến use_count(số tham chiếu đến đối tượng)"
   ]
  },
  {
   "cell_type": "markdown",
   "id": "dc896e72-545b-4719-b96d-e1fda4f7aa00",
   "metadata": {},
   "source": [
    "Mình sẽ chú ý vào các ý quan trọng trong implement của **Shared_ptr**. Con trỏ **shared_ptr** gồm:\n",
    "- Con trỏ thô(raw pointer) trỏ đến đối tượng ta quản lý.\n",
    "- Con trỏ *conntrol block*. Cấu trúc của con trỏ *control block*:\n",
    "  + Con trỏ đến đối tượng ta quản lý hoặc con trỏ trỏ đến đối tượng ta quản lý. \n",
    "  + Biến use_count - số các shared_ptr đang cùng quản lý đối tượng.\n",
    "  + Biến weak_count- số các weak_ptr đang trỏ đến đối tượng ta quản lý.\n",
    "  + Hàm xóa - the deleter (type-erased)s\n",
    "  + Hàm cấp phát - the allocator (type-erased)"
   ]
  },
  {
   "cell_type": "markdown",
   "id": "eb93fd20-643a-4aa0-8394-417fa29beb11",
   "metadata": {},
   "source": [
    "> Lưu ý: Nếu use_count = 0 thì đối tượng quản lý của ta sẽ bị hủy(deleter), nếu user_count = 0 và weak_count = 0 thì con trỏ **Control block** sẽ bị hủy"
   ]
  },
  {
   "cell_type": "markdown",
   "id": "691e9889-0487-4149-aafb-8a322c267101",
   "metadata": {},
   "source": [
    "Về triển khai của **Shared_ptr** khá là khó. Bên dưới là code tham khảo bản implement cơ bản của **Shared_ptr**. Nếu các bạn muốn hiểu rõ hơn thì các bạn có thể đọc implement trong thư viện =)))). \n",
    "\n",
    "[Link bài viết implement code tham khảo bên dưới](https://medium.com/analytics-vidhya/c-shared-ptr-and-how-to-write-your-own-d0d385c118ad)\n"
   ]
  },
  {
   "cell_type": "markdown",
   "id": "32bfcbcb-aa7c-420b-9150-b4e01d33fdfe",
   "metadata": {},
   "source": [
    "\n",
    "```cpp\n",
    "typedef unsigned int uint;\n",
    "\n",
    "template<class T>\n",
    "class my_shared_ptr\n",
    "{\n",
    "private:\n",
    "\tT * ptr = nullptr;\n",
    "\tuint * refCount = nullptr;\n",
    "\n",
    "public:\n",
    "\tmy_shared_ptr() : ptr(nullptr), refCount(new uint(0)) // default constructor\n",
    "\t{\n",
    "\t}\n",
    "\n",
    "\tmy_shared_ptr(T * ptr) : ptr(ptr), refCount(new uint(1)) // constructor\n",
    "\t{\n",
    "\t}\n",
    "\n",
    "\t/*** Copy Semantics ***/\n",
    "\tmy_shared_ptr(const my_shared_ptr & obj) // copy constructor\n",
    "\t{\n",
    "\t\tthis->ptr = obj.ptr; // share the underlying pointer\n",
    "\t\tthis->refCount = obj.refCount;\n",
    "\t\tif (nullptr != obj.ptr)\n",
    "\t\t{\n",
    "\t\t\t(*this->refCount)++; // if the pointer is not null, increment the refCount\n",
    "\t\t}\n",
    "\t}\n",
    "\n",
    "\tmy_shared_ptr& operator=(const my_shared_ptr & obj) // copy assignment\n",
    "\t{\n",
    "\t\t__cleanup__(); // cleanup any existing data\n",
    "\t\t\n",
    "\t\t// Assign incoming object's data to this object\n",
    "\t\tthis->ptr = obj.ptr; // share the underlying pointer\n",
    "\t\tthis->refCount = obj.refCount;\n",
    "\t\tif (nullptr != obj.ptr)\n",
    "\t\t{\n",
    "\t\t\t(*this->refCount)++; // if the pointer is not null, increment the refCount\n",
    "\t\t}\n",
    "\t}\n",
    "\n",
    "\t/*** Move Semantics ***/\n",
    "\tmy_shared_ptr(my_shared_ptr && dyingObj) // move constructor\n",
    "\t{\n",
    "\t\tthis->ptr = dyingObj.ptr; // share the underlying pointer\n",
    "\t\tthis->refCount = dyingObj.refCount;\n",
    "\n",
    "\t\tdyingObj.ptr = dyingObj.refCount = nullptr; // clean the dying object\n",
    "\t}\n",
    "\n",
    "\tmy_shared_ptr& operator=(my_shared_ptr && dyingObj) // move assignment\n",
    "\t{\n",
    "\t\t__cleanup__(); // cleanup any existing data\n",
    "\t\t\n",
    "\t\tthis->ptr = dyingObj.ptr; // share the underlying pointer\n",
    "\t\tthis->refCount = dyingObj.refCount;\n",
    "\n",
    "\t\tdyingObj.ptr = dyingObj.refCount = nullptr; // clean the dying object\n",
    "\t}\n",
    "\n",
    "\tuint get_count() const\n",
    "\t{\n",
    "\t\treturn *refCount; // *this->refCount\n",
    "\t}\n",
    "\n",
    "\tT* get() const\n",
    "\t{\n",
    "\t\treturn this->ptr;\n",
    "\t}\n",
    "\n",
    "\tT* operator->() const\n",
    "\t{\n",
    "\t\treturn this->ptr;\n",
    "\t}\n",
    "\n",
    "\tT& operator*() const\n",
    "\t{\n",
    "\t\treturn this->ptr;\n",
    "\t}\n",
    "\n",
    "\t~my_shared_ptr() // destructor\n",
    "\t{\n",
    "\t\t__cleanup__();\n",
    "\t}\n",
    "\n",
    "private:\n",
    "\tvoid __cleanup__()\n",
    "\t{\n",
    "\t\t(*refCount)--;\n",
    "\t\tif (*refCount == 0)\n",
    "\t\t{\n",
    "\t\t\tif (nullptr != ptr)\n",
    "\t\t\t\tdelete ptr;\n",
    "\t\t\tdelete refCount;\n",
    "\t\t}\n",
    "\t}\n",
    "};\n",
    "\n",
    "```"
   ]
  },
  {
   "cell_type": "markdown",
   "id": "55d6941c-9259-40a7-9055-e1ff42a8d004",
   "metadata": {},
   "source": [
    "#### To do chèn thêm ảnh minh họa về sử dụng **shared_ptr** trong dự án thực tế."
   ]
  },
  {
   "cell_type": "markdown",
   "id": "4b4f27f4-78d1-4b4c-8a45-a9b1204b1706",
   "metadata": {},
   "source": [
    "## 3.3 weak_ptr"
   ]
  },
  {
   "cell_type": "markdown",
   "id": "bd4e3805-e9fc-4bc5-af99-14e26bf4d2ad",
   "metadata": {},
   "source": [
    "Con trỏ **weak_ptr** là con trỏ giữ một tham chiếu lỏng lẻo ( non-owning weak reference) đến đối tượng ta quản lý trong đó đối tượng quản lý đó cũng phải đang được quản lý bới con trỏ **shared_ptr**.  "
   ]
  },
  {
   "cell_type": "markdown",
   "id": "d8cff29c-1976-4a8e-94bd-173b996af03d",
   "metadata": {},
   "source": [
    "- Con trỏ weak_ptr là một mô hình yếu. Nó thực hiện truy cập đối tượng quản lý khi mà đối tượng quản lý đó còn tồn tại. Nó không thể tự giữ tham chiếu đến đối tượng mà phải được thông qua việc được conver thành **shared_ptr** temporary cho quyền sở hữu tạm thời, Và **shared_ptr** temporary sẽ kéo dài **life time** của object quản lý khi mà **shared_ptr** thực sự của object đã bị hủy hết. (Hay một cách hiểu khác là **weak_ptr** là một **shared_ptr observer**.)\n",
    "- Một công dụng khác của **weak_ptr** là để break ra cycles có thể có do **shared_ptr** gây ra."
   ]
  },
  {
   "cell_type": "markdown",
   "id": "14cab072-bf22-45f0-8a59-f8a08b91ff96",
   "metadata": {},
   "source": [
    "```cpp\n",
    "#include <iostream>\n",
    "#include <memory>\n",
    "#include <variant>\n",
    " \n",
    "class Node\n",
    "{\n",
    "    char id;\n",
    "    std::variant<std::weak_ptr<Node>, std::shared_ptr<Node>> ptr;\n",
    "public:\n",
    "    Node(char id) : id{id} {}\n",
    "    ~Node() { std::cout << \"  '\" << id << \"' reclaimed\\n\"; }\n",
    "    /*...*/\n",
    "    void assign(std::weak_ptr<Node> p) { ptr = p; }\n",
    "    void assign(std::shared_ptr<Node> p) { ptr = p; }\n",
    "};\n",
    " \n",
    "enum class shared { all, some };\n",
    " \n",
    "void test_cyclic_graph(const shared x)\n",
    "{\n",
    "    auto A = std::make_shared<Node>('A');\n",
    "    auto B = std::make_shared<Node>('B');\n",
    "    auto C = std::make_shared<Node>('C');\n",
    " \n",
    "    A->assign(B);\n",
    "    B->assign(C);\n",
    " \n",
    "    if (shared::all == x)\n",
    "    {\n",
    "        C->assign(A);\n",
    "        std::cout << \"All links are shared pointers\";\n",
    "    }\n",
    "    else\n",
    "    {\n",
    "        C->assign(std::weak_ptr<Node>(A));\n",
    "        std::cout << \"One link is a weak_ptr\";\n",
    "    }\n",
    "    /*...*/\n",
    "    std::cout << \"\\nLeaving...\\n\";\n",
    "}\n",
    " \n",
    "int main()\n",
    "{\n",
    "    test_cyclic_graph(shared::some);\n",
    "    test_cyclic_graph(shared::all); // produces a memory leak\n",
    "}\n",
    "\n",
    "\n",
    "```"
   ]
  },
  {
   "cell_type": "markdown",
   "id": "861027da-abc3-422e-b2fc-a0e75b476db6",
   "metadata": {},
   "source": [
    "# 4. Ưu và nhược điểm của **Smart Poiter**\n",
    "Theo tài liệu tham khảo của [Google Style C++](http://google-styleguide.googlecode.com/svn/trunk/cppguide.xml#Smart_Pointers)\n",
    "\n",
    "Ưu điểm:\n",
    "- Tự động quản lý bộ nhớ, tránh gây leak memory, chuyền quyền sở hữu vùng nhớ một cách rõ ràng\n"
   ]
  },
  {
   "cell_type": "markdown",
   "id": "de2da97f-10ca-41c2-8e0d-d70de3a3b106",
   "metadata": {},
   "source": [
    "Nhược điểm:\n",
    "- Thiết kế con trỏ mà nó chỉ có sở hữu một đối tượng duy nhất. Trong đó lưu ý tới con auto_ptr có thể gây ra lỗi khó phát hiện."
   ]
  },
  {
   "cell_type": "markdown",
   "id": "03cf682f-040c-4318-95fb-ab7e885c03d5",
   "metadata": {},
   "source": [
    "Tuy nhiên theo kinh nghiệm làm việc với **Smart Pointer**, mình thấy dùng **unique_ptr** với trường hợp class muốn chính nó là người sở hữu 1 vùng dữ liệu nào đấy. **shard_ptr** là dữ liệu đó được dùng chung giữa các class. Còn **weak_ptr** là để kiểm tra xem dữ liệu đó còn tồn tại không thì thực hiện một số hành động nào đó."
   ]
  },
  {
   "cell_type": "markdown",
   "id": "bf1e7c42-23b9-4e87-b5cd-5930cdd1cc88",
   "metadata": {},
   "source": [
    "> Câu hỏi phỏng vấn khi nào dùng **Smart Poiter** và khi nào dùng con trỏ thông thường (raw poiter):\n",
    "\n",
    ">Trả lời: Dùng **Smart Pointer** trong trường hợp muốn thực hiện một số thao tác như sở hữu riêng hoặc chia sẽ quyền sở hữu, truyền quyền sở hữu, theo dõi **lifetime** của đối tượng. Dùng raw pointer khi mà pointer đó chỉ nhiệm vụ trỏ đến một đối tượng duy nhất."
   ]
  },
  {
   "cell_type": "markdown",
   "id": "05573f83-8291-49c0-918d-78a94ec17e52",
   "metadata": {},
   "source": [
    ">Câu hỏi phỏng vấn liệu use_count của shard_ptr có thể tăng vô hạn không ?"
   ]
  },
  {
   "cell_type": "markdown",
   "id": "6ab0b89a-630d-4c42-a2dd-c67c68d314f8",
   "metadata": {},
   "source": [
    "# 5.Tài liệu tham khảo"
   ]
  },
  {
   "cell_type": "markdown",
   "id": "7105aba7-7586-4a03-b5ee-532029a6f03d",
   "metadata": {},
   "source": [
    "1. [unique_ptr cppreference](https://en.cppreference.com/w/cpp/memory/unique_ptr)\n",
    "\n",
    "2. [shared_ptr cppreference](https://en.cppreference.com/w/cpp/memory/shared_ptr)\n",
    "\n",
    "3. [weak_ptr cppreference](https://en.cppreference.com/w/cpp/memory/weak_ptr)"
   ]
  },
  {
   "cell_type": "code",
   "execution_count": null,
   "id": "d98243d6-ffe5-40e2-b3a9-87d4457cd503",
   "metadata": {},
   "outputs": [],
   "source": []
  }
 ],
 "metadata": {
  "kernelspec": {
   "display_name": "C++11",
   "language": "C++11",
   "name": "xcpp11"
  },
  "language_info": {
   "codemirror_mode": "text/x-c++src",
   "file_extension": ".cpp",
   "mimetype": "text/x-c++src",
   "name": "c++",
   "version": "11"
  }
 },
 "nbformat": 4,
 "nbformat_minor": 5
}
