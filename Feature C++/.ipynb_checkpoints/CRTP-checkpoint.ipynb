{
 "cells": [
  {
   "cell_type": "markdown",
   "id": "9e5253fa-078e-4b80-854d-e37b8d6bbbed",
   "metadata": {},
   "source": [
    "```cpp\n",
    "template<typename Derived>\n",
    "class Base {\n",
    "public:\n",
    "    void run() {\n",
    "        static_cast<Derived*>(this)->impl();\n",
    "    }\n",
    "};\n",
    "\n",
    "class Derived : public Base<Derived> {\n",
    "public:\n",
    "    void impl() {\n",
    "        std::cout << \"Derived::impl()\\n\";\n",
    "    }\n",
    "};\n",
    "\n",
    "```"
   ]
  },
  {
   "cell_type": "code",
   "execution_count": null,
   "id": "b4db5547-008e-4fe2-a36b-245ac493177f",
   "metadata": {},
   "outputs": [],
   "source": []
  }
 ],
 "metadata": {
  "kernelspec": {
   "display_name": "C++11",
   "language": "C++11",
   "name": "xcpp11"
  },
  "language_info": {
   "codemirror_mode": "text/x-c++src",
   "file_extension": ".cpp",
   "mimetype": "text/x-c++src",
   "name": "c++",
   "version": "11"
  }
 },
 "nbformat": 4,
 "nbformat_minor": 5
}
