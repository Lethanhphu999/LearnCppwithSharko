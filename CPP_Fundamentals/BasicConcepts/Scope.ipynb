{
 "cells": [
  {
   "cell_type": "markdown",
   "id": "b9763f57-afc2-4c02-a80a-f235b64110b3",
   "metadata": {},
   "source": [
    "# Phân loại các scope "
   ]
  },
  {
   "cell_type": "markdown",
   "id": "84ec0088-f9ed-4763-8a2e-997de785d2ee",
   "metadata": {},
   "source": [
    "Gồm có 6 scope:\n",
    "- Global scope\n",
    "- Namespace global\n",
    "- Local scopce\n",
    "- Class scope\n",
    "- Statement scope\n",
    "- Funtion scope"
   ]
  },
  {
   "cell_type": "markdown",
   "id": "58aac162-138c-4585-ab62-045a2c9ba325",
   "metadata": {},
   "source": [
    "### ⚠️ Điểm khác biệt chính:\n",
    "\n",
    "| Tiêu chí                 | Local scope                                               | Function scope                                  |\n",
    "|--------------------------|-----------------------------------------------------------|-------------------------------------------------|\n",
    "| Áp dụng cho              | Biến, hằng, tham số, khai báo bình thường                 | Chỉ áp dụng cho label (`goto`)                  |\n",
    "| Phạm vi hiệu lực         | Từ **nơi khai báo** đến **cuối block**                   | **Toàn bộ thân hàm**, bất kể vị trí khai báo    |\n",
    "| Có thể dùng trước khai báo? | ❌ Không thể                                           | ✅ Có thể                                        |\n"
   ]
  },
  {
   "cell_type": "markdown",
   "id": "8d75f8ad-2ebc-48a1-bdd4-f4a923a42fa4",
   "metadata": {},
   "source": [
    "# Name hiding"
   ]
  },
  {
   "cell_type": "markdown",
   "id": "5e0e972b-82c5-46a3-b454-4b003ce759d5",
   "metadata": {},
   "source": [
    "Tên có các biến global có bị ẩn đi do có biến cùng tên tồn tại trong { }, hoặc trong class."
   ]
  },
  {
   "cell_type": "code",
   "execution_count": 14,
   "id": "e7ce550a-3629-4109-b1b3-afc51148c8ea",
   "metadata": {},
   "outputs": [
    {
     "name": "stdout",
     "output_type": "stream",
     "text": [
      "100\n",
      "10"
     ]
    }
   ],
   "source": [
    "#include<iostream>\n",
    "int a  = 10;\n",
    "\n",
    "{\n",
    "    int a = 100;\n",
    "    std::cout << a << \"\\n\";\n",
    "}\n",
    "\n",
    "std::cout << a;"
   ]
  },
  {
   "cell_type": "code",
   "execution_count": 15,
   "id": "a6aed119-ca24-4cab-85b9-b055e00474fa",
   "metadata": {},
   "outputs": [
    {
     "name": "stdout",
     "output_type": "stream",
     "text": [
      "100\n"
     ]
    }
   ],
   "source": [
    "#include<iostream>\n",
    "int value  = 10;\n",
    "\n",
    "class Base {\n",
    "public:\n",
    "void print() {\n",
    "    std::cout << value << \"\\n\";\n",
    "}\n",
    "\n",
    "private:\n",
    "\n",
    "int value = 100;\n",
    "};\n",
    "\n",
    "Base b;\n",
    "b.print(); // class scope"
   ]
  },
  {
   "cell_type": "markdown",
   "id": "72b2f9d6-527f-4dcc-8c8f-4db7194555d8",
   "metadata": {},
   "source": [
    "## Vậy nếu như ta muốn sử dụng việc name hiding name diễn ra nữa ta phải làm sao ? \n",
    "\n",
    "Câu trả lời Là ta dùng toán tử **::**, chỉ định rõ ràng biến, hàm sau dấu **::** phải thuộc global"
   ]
  },
  {
   "cell_type": "code",
   "execution_count": 18,
   "id": "763815f4-afde-42de-8cbb-562fa7d66029",
   "metadata": {},
   "outputs": [
    {
     "name": "stdout",
     "output_type": "stream",
     "text": [
      "10\n",
      "10"
     ]
    }
   ],
   "source": [
    "#include<iostream>\n",
    "int a  = 10;\n",
    "\n",
    "{\n",
    "    int a = 100;\n",
    "    std::cout << ::a << \"\\n\"; //global\n",
    "}\n",
    "\n",
    "std::cout << a;"
   ]
  },
  {
   "cell_type": "code",
   "execution_count": null,
   "id": "1da71a12-18ae-4fff-98cc-8250e0bce612",
   "metadata": {},
   "outputs": [],
   "source": [
    "#include<iostream>\n",
    "int value  = 10;\n",
    "\n",
    "class Base {\n",
    "public:\n",
    "void print() {\n",
    "    std::cout << value << \"\\n\";\n",
    "}\n",
    "\n",
    "private:\n",
    "\n",
    "int value = 100;\n",
    "};\n",
    "\n",
    "Base b;\n",
    "b.print(); // class scope"
   ]
  }
 ],
 "metadata": {
  "kernelspec": {
   "display_name": "C++11",
   "language": "C++11",
   "name": "xcpp11"
  },
  "language_info": {
   "codemirror_mode": "text/x-c++src",
   "file_extension": ".cpp",
   "mimetype": "text/x-c++src",
   "name": "c++",
   "version": "11"
  }
 },
 "nbformat": 4,
 "nbformat_minor": 5
}
