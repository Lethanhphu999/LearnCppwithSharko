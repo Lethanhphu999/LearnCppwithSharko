{
 "cells": [
  {
   "cell_type": "markdown",
   "id": "542cf324-80d5-40b2-8833-ad3edf24d13d",
   "metadata": {},
   "source": [
    "# 1.Tổng quan về CMAKE\n"
   ]
  },
  {
   "cell_type": "markdown",
   "id": "c6069a29-e052-4cb2-a561-43f774604572",
   "metadata": {},
   "source": [
    "# 1.1 Cmake là gì ?. Các loại target mà nó build ra\n",
    "Nó là 1 system-build project\n"
   ]
  },
  {
   "cell_type": "markdown",
   "id": "0b264b01-1730-4596-8bcf-ee7cdde78f49",
   "metadata": {},
   "source": [
    "Cmake có các loại build target như:\n",
    "- Exucute file\n",
    "- Static\n",
    "- Dynamic\n",
    "- Apple framework\n",
    "- Module\n",
    "- object"
   ]
  },
  {
   "cell_type": "markdown",
   "id": "dd40c71d-8e55-429c-8450-c1a9a06eb995",
   "metadata": {},
   "source": [
    " Execute file LÀ file được tạo ra bằng cách link nhiều object file với nhau, có **entry point** là **main()**\n",
    " trong cmake là \n",
    " \n",
    " add_executable()"
   ]
  },
  {
   "cell_type": "markdown",
   "id": "6a8edab2-4a17-4dd8-b763-e0a0be469b2e",
   "metadata": {},
   "source": [
    "Static lib là tập hợp các file object file. Có được nhờ an **archiver**, chứ không phải a **linker**. Khi tạo ra file exe từ static thì linker sẽ reslove những symbol từ static và copy bản riêng mới nhúng vào binary của exe.\n",
    "```cmake\n",
    "add_library(archive STATIC archive.cpp zip.cpp lzma.cpp)\n",
    "```"
   ]
  },
  {
   "cell_type": "markdown",
   "id": "0f41b75b-ab71-4407-8739-a513a5184f0a",
   "metadata": {},
   "source": [
    "Shared lib là tập hợp các file object file được linking với nhau \n",
    "```cmake\n",
    "add_library(archive SHARED archive.cpp zip.cpp lzma.cpp)\n",
    "```\n",
    "\n",
    "hoặc bỏ trống mặc định sẽ là SHARED"
   ]
  },
  {
   "cell_type": "markdown",
   "id": "e9d17799-4bd2-4c84-8e4e-ac48389ecc0c",
   "metadata": {},
   "source": [
    "Apple framwork le mark các exe, shared, staic hỗ trợ cho macos, ios"
   ]
  },
  {
   "cell_type": "markdown",
   "id": "04ff330e-ce99-4ff6-98e6-29816f694c5d",
   "metadata": {},
   "source": [
    "Module Libraries là kiểu object được build ra không được linker lúc compile mà là lúc runtime, khi có đoạn code gọi nạp loại target này"
   ]
  },
  {
   "cell_type": "markdown",
   "id": "a77affd2-2c72-465a-907e-a6653d9ecd03",
   "metadata": {},
   "source": [
    "Object Libraries là kiểu target chỉ tập hợp các object đã được build thành .obj phục vụ cho các loại target khác \n",
    "\n",
    "```cmake\n",
    "$<TARGET_OBJECTS:name>:\n",
    "\n",
    "\n",
    "add_library(archiveExtras STATIC $<TARGET_OBJECTS:archiveObjs> extras.cpp)\n",
    "\n",
    "add_executable(test_exe $<TARGET_OBJECTS:archiveObjs> test.cpp)\n",
    "```\n"
   ]
  },
  {
   "cell_type": "markdown",
   "id": "99ab791e-aa3d-40ac-ac11-059ce3f8d412",
   "metadata": {},
   "source": [
    "# 1.2 Target Commands"
   ]
  },
  {
   "cell_type": "markdown",
   "id": "fbfe510c-88a7-4fcc-86ed-cfc903413b62",
   "metadata": {},
   "source": [
    "## 🚦 So sánh giữa `PRIVATE`, `INTERFACE`, và `PUBLIC` trong CMake\n",
    "\n",
    "| Loại        | Dùng khi **build target** | Dùng khi **target khác sử dụng** |\n",
    "|-------------|----------------------------|----------------------------------|\n",
    "| `PRIVATE`   | ✅ Có                      | ❌ Không truyền đi               |\n",
    "| `INTERFACE` | ❌ Không dùng              | ✅ Truyền cho target khác        |\n",
    "| `PUBLIC`    | ✅ Có                      | ✅ Truyền luôn cho target khác   |\n"
   ]
  },
  {
   "cell_type": "markdown",
   "id": "4e23390a-4280-419b-aac2-1b231f423692",
   "metadata": {},
   "source": [
    "Target commands"
   ]
  },
  {
   "cell_type": "markdown",
   "id": "43080c17-a243-4eef-988f-7ca70147adc9",
   "metadata": {},
   "source": [
    "Định nghĩa các cờ khi biên dịch một target\n",
    "\n",
    "```cmake\n",
    "target_compile_definitions(archive\n",
    "  PRIVATE   BUILDING_WITH_LZMA\n",
    "  INTERFACE USING_ARCHIVE_LIB\n",
    ")\n",
    " ```\n"
   ]
  },
  {
   "cell_type": "markdown",
   "id": "bec80396-3cab-4864-bea2-a5653b44e3fa",
   "metadata": {},
   "source": []
  },
  {
   "cell_type": "markdown",
   "id": "242660e0-304e-4498-99fe-49b009fb2cc2",
   "metadata": {},
   "source": []
  },
  {
   "cell_type": "markdown",
   "id": "6eb0b635-06a6-4353-a025-6a0b9200b32b",
   "metadata": {},
   "source": [
    "# 2. Usage Requirements"
   ]
  },
  {
   "cell_type": "markdown",
   "id": "1ad719f1-8ba0-47e4-bfd2-45eb28121858",
   "metadata": {},
   "source": [
    "                   Usage Requirements\n",
    "                   ┌─────────────────────────────┐\n",
    "                   │                             │\n",
    "    ┌──────────────┴──────────────┐ ┌────────────┴─────────────┐\n",
    "    │ Transitive Compile Properties│ │ Transitive Link Properties │\n",
    "    │   - INTERFACE_INCLUDE_...   │ │   - INTERFACE_LINK_...     │\n",
    "    │   - INTERFACE_COMPILE_...   │ │                             │\n",
    "    └─────────────────────────────┘ └────────────────────────────┘\n"
   ]
  },
  {
   "cell_type": "markdown",
   "id": "b5e1af43-9d53-4443-8a4b-3daca1f102c8",
   "metadata": {},
   "source": []
  },
  {
   "cell_type": "markdown",
   "id": "18bb7641-5066-4d64-8b7b-b0f0e6a3adb8",
   "metadata": {},
   "source": []
  },
  {
   "cell_type": "markdown",
   "id": "2d5333d7-cd1e-4072-ae98-e4c0eaf9f557",
   "metadata": {},
   "source": []
  },
  {
   "cell_type": "markdown",
   "id": "b7d4e077-8d49-484d-8896-c74ab6e86762",
   "metadata": {},
   "source": []
  },
  {
   "cell_type": "markdown",
   "id": "a8b08195-1de6-4b90-bb7f-8fc36db35cfa",
   "metadata": {},
   "source": []
  }
 ],
 "metadata": {
  "kernelspec": {
   "display_name": "C++11",
   "language": "C++11",
   "name": "xcpp11"
  },
  "language_info": {
   "codemirror_mode": "text/x-c++src",
   "file_extension": ".cpp",
   "mimetype": "text/x-c++src",
   "name": "c++",
   "version": "11"
  }
 },
 "nbformat": 4,
 "nbformat_minor": 5
}
